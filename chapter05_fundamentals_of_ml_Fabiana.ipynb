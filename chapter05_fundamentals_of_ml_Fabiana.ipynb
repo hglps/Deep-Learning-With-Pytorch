{
  "cells": [
    {
      "cell_type": "markdown",
      "source": [
        "## Atividade task-06-regularization-01\n",
        "\n",
        "Aluna: Fabiana de Albuquerque Silva"
      ],
      "metadata": {
        "id": "9SKUI0wJnMaE"
      }
    },
    {
      "cell_type": "markdown",
      "metadata": {
        "id": "b_NfphWp-PlX"
      },
      "source": [
        "This is a companion notebook for the book [Deep Learning with Python, Second Edition](https://www.manning.com/books/deep-learning-with-python-second-edition?a_aid=keras&a_bid=76564dff). For readability, it only contains runnable code blocks and section titles, and omits everything else in the book: text paragraphs, figures, and pseudocode.\n",
        "\n",
        "**If you want to be able to follow what's going on, I recommend reading the notebook side by side with your copy of the book.**\n",
        "\n",
        "This notebook was generated for TensorFlow 2.6."
      ]
    },
    {
      "cell_type": "markdown",
      "metadata": {
        "id": "XRsnQUXy-PlY"
      },
      "source": [
        "# Fundamentals of machine learning"
      ]
    },
    {
      "cell_type": "markdown",
      "metadata": {
        "id": "_hvhzr4B-PlY"
      },
      "source": [
        "## Generalization: The goal of machine learning"
      ]
    },
    {
      "cell_type": "markdown",
      "metadata": {
        "id": "qknLPXmj-PlZ"
      },
      "source": [
        "### Underfitting and overfitting"
      ]
    },
    {
      "cell_type": "markdown",
      "metadata": {
        "id": "ppLXEHQh-PlZ"
      },
      "source": [
        "#### Noisy training data"
      ]
    },
    {
      "cell_type": "markdown",
      "metadata": {
        "id": "kEJzSooC-PlZ"
      },
      "source": [
        "#### Ambiguous features"
      ]
    },
    {
      "cell_type": "markdown",
      "metadata": {
        "id": "1JO9z8WP-PlZ"
      },
      "source": [
        "#### Rare features and spurious correlations"
      ]
    },
    {
      "cell_type": "markdown",
      "metadata": {
        "id": "1cCP0n06-PlZ"
      },
      "source": [
        "**Adding white-noise channels or all-zeros channels to MNIST**"
      ]
    },
    {
      "cell_type": "markdown",
      "source": [
        "### Versão TensorFlow:"
      ],
      "metadata": {
        "id": "kXwXwVQP-xCv"
      }
    },
    {
      "cell_type": "code",
      "execution_count": 1,
      "metadata": {
        "colab": {
          "base_uri": "https://localhost:8080/"
        },
        "id": "LN-j7wGM-PlZ",
        "outputId": "211065a1-b13d-4d20-eca4-da233122c50e"
      },
      "outputs": [
        {
          "output_type": "stream",
          "name": "stdout",
          "text": [
            "Downloading data from https://storage.googleapis.com/tensorflow/tf-keras-datasets/mnist.npz\n",
            "\u001b[1m11490434/11490434\u001b[0m \u001b[32m━━━━━━━━━━━━━━━━━━━━\u001b[0m\u001b[37m\u001b[0m \u001b[1m0s\u001b[0m 0us/step\n"
          ]
        }
      ],
      "source": [
        "from tensorflow.keras.datasets import mnist\n",
        "import numpy as np\n",
        "\n",
        "(train_images, train_labels), _ = mnist.load_data()\n",
        "train_images = train_images.reshape((60000, 28 * 28))\n",
        "train_images = train_images.astype(\"float32\") / 255\n",
        "\n",
        "train_images_with_noise_channels = np.concatenate(\n",
        "    [train_images, np.random.random((len(train_images), 784))], axis=1)\n",
        "\n",
        "train_images_with_zeros_channels = np.concatenate(\n",
        "    [train_images, np.zeros((len(train_images), 784))], axis=1)"
      ]
    },
    {
      "cell_type": "markdown",
      "source": [
        "### Versão PyTorch:"
      ],
      "metadata": {
        "id": "XUU2249s-6t1"
      }
    },
    {
      "cell_type": "code",
      "source": [
        "# Versão PyTorch:\n",
        "\n",
        "import torch\n",
        "from torchvision import datasets, transforms\n",
        "import numpy as np\n",
        "\n",
        "# Carregando MNIST com torchvision\n",
        "transform = transforms.Compose([transforms.ToTensor()])\n",
        "train_dataset = datasets.MNIST(root=\".\", train=True, download=True, transform=transform)\n",
        "train_images = train_dataset.data.view(-1, 28 * 28).float().numpy() / 255\n",
        "train_labels = train_dataset.targets.numpy()\n",
        "\n",
        "# Adicionando canais de ruído e zeros\n",
        "train_images_with_noise_channels = np.concatenate(\n",
        "    [train_images, np.random.random((len(train_images), 784))], axis=1\n",
        ")\n",
        "\n",
        "train_images_with_zeros_channels = np.concatenate(\n",
        "    [train_images, np.zeros((len(train_images), 784))], axis=1\n",
        ")"
      ],
      "metadata": {
        "colab": {
          "base_uri": "https://localhost:8080/"
        },
        "id": "SscDa8KY-a-b",
        "outputId": "6413e017-9584-4cd2-a2bc-52dca885a2e9"
      },
      "execution_count": 2,
      "outputs": [
        {
          "output_type": "stream",
          "name": "stderr",
          "text": [
            "100%|██████████| 9.91M/9.91M [00:00<00:00, 38.9MB/s]\n",
            "100%|██████████| 28.9k/28.9k [00:00<00:00, 1.23MB/s]\n",
            "100%|██████████| 1.65M/1.65M [00:00<00:00, 10.6MB/s]\n",
            "100%|██████████| 4.54k/4.54k [00:00<00:00, 6.26MB/s]\n"
          ]
        }
      ]
    },
    {
      "cell_type": "markdown",
      "metadata": {
        "id": "q2y2zI-y-PlZ"
      },
      "source": [
        "**Training the same model on MNIST data with noise channels or all-zero channels**"
      ]
    },
    {
      "cell_type": "markdown",
      "source": [
        "### Versão Tensorflow:"
      ],
      "metadata": {
        "id": "Fu6UOLVk_6Mt"
      }
    },
    {
      "cell_type": "code",
      "execution_count": 3,
      "metadata": {
        "colab": {
          "base_uri": "https://localhost:8080/"
        },
        "id": "hmPZI3Dv-Pla",
        "outputId": "08ce4540-94f3-4be6-c280-d979eb10220b"
      },
      "outputs": [
        {
          "output_type": "stream",
          "name": "stdout",
          "text": [
            "Epoch 1/10\n",
            "\u001b[1m375/375\u001b[0m \u001b[32m━━━━━━━━━━━━━━━━━━━━\u001b[0m\u001b[37m\u001b[0m \u001b[1m9s\u001b[0m 21ms/step - accuracy: 0.6957 - loss: 1.0900 - val_accuracy: 0.9112 - val_loss: 0.3001\n",
            "Epoch 2/10\n",
            "\u001b[1m375/375\u001b[0m \u001b[32m━━━━━━━━━━━━━━━━━━━━\u001b[0m\u001b[37m\u001b[0m \u001b[1m8s\u001b[0m 20ms/step - accuracy: 0.9153 - loss: 0.2824 - val_accuracy: 0.9445 - val_loss: 0.1899\n",
            "Epoch 3/10\n",
            "\u001b[1m375/375\u001b[0m \u001b[32m━━━━━━━━━━━━━━━━━━━━\u001b[0m\u001b[37m\u001b[0m \u001b[1m11s\u001b[0m 22ms/step - accuracy: 0.9458 - loss: 0.1783 - val_accuracy: 0.9463 - val_loss: 0.1721\n",
            "Epoch 4/10\n",
            "\u001b[1m375/375\u001b[0m \u001b[32m━━━━━━━━━━━━━━━━━━━━\u001b[0m\u001b[37m\u001b[0m \u001b[1m9s\u001b[0m 19ms/step - accuracy: 0.9628 - loss: 0.1186 - val_accuracy: 0.9463 - val_loss: 0.1731\n",
            "Epoch 5/10\n",
            "\u001b[1m375/375\u001b[0m \u001b[32m━━━━━━━━━━━━━━━━━━━━\u001b[0m\u001b[37m\u001b[0m \u001b[1m10s\u001b[0m 19ms/step - accuracy: 0.9745 - loss: 0.0842 - val_accuracy: 0.9555 - val_loss: 0.1503\n",
            "Epoch 6/10\n",
            "\u001b[1m375/375\u001b[0m \u001b[32m━━━━━━━━━━━━━━━━━━━━\u001b[0m\u001b[37m\u001b[0m \u001b[1m11s\u001b[0m 20ms/step - accuracy: 0.9801 - loss: 0.0624 - val_accuracy: 0.9673 - val_loss: 0.1151\n",
            "Epoch 7/10\n",
            "\u001b[1m375/375\u001b[0m \u001b[32m━━━━━━━━━━━━━━━━━━━━\u001b[0m\u001b[37m\u001b[0m \u001b[1m8s\u001b[0m 21ms/step - accuracy: 0.9862 - loss: 0.0452 - val_accuracy: 0.9637 - val_loss: 0.1368\n",
            "Epoch 8/10\n",
            "\u001b[1m375/375\u001b[0m \u001b[32m━━━━━━━━━━━━━━━━━━━━\u001b[0m\u001b[37m\u001b[0m \u001b[1m12s\u001b[0m 25ms/step - accuracy: 0.9897 - loss: 0.0332 - val_accuracy: 0.9656 - val_loss: 0.1390\n",
            "Epoch 9/10\n",
            "\u001b[1m375/375\u001b[0m \u001b[32m━━━━━━━━━━━━━━━━━━━━\u001b[0m\u001b[37m\u001b[0m \u001b[1m7s\u001b[0m 17ms/step - accuracy: 0.9924 - loss: 0.0256 - val_accuracy: 0.9682 - val_loss: 0.1279\n",
            "Epoch 10/10\n",
            "\u001b[1m375/375\u001b[0m \u001b[32m━━━━━━━━━━━━━━━━━━━━\u001b[0m\u001b[37m\u001b[0m \u001b[1m9s\u001b[0m 24ms/step - accuracy: 0.9949 - loss: 0.0170 - val_accuracy: 0.9718 - val_loss: 0.1144\n",
            "Epoch 1/10\n",
            "\u001b[1m375/375\u001b[0m \u001b[32m━━━━━━━━━━━━━━━━━━━━\u001b[0m\u001b[37m\u001b[0m \u001b[1m9s\u001b[0m 23ms/step - accuracy: 0.8588 - loss: 0.4865 - val_accuracy: 0.9534 - val_loss: 0.1611\n",
            "Epoch 2/10\n",
            "\u001b[1m375/375\u001b[0m \u001b[32m━━━━━━━━━━━━━━━━━━━━\u001b[0m\u001b[37m\u001b[0m \u001b[1m6s\u001b[0m 17ms/step - accuracy: 0.9604 - loss: 0.1361 - val_accuracy: 0.9678 - val_loss: 0.1041\n",
            "Epoch 3/10\n",
            "\u001b[1m375/375\u001b[0m \u001b[32m━━━━━━━━━━━━━━━━━━━━\u001b[0m\u001b[37m\u001b[0m \u001b[1m8s\u001b[0m 22ms/step - accuracy: 0.9760 - loss: 0.0816 - val_accuracy: 0.9718 - val_loss: 0.0925\n",
            "Epoch 4/10\n",
            "\u001b[1m375/375\u001b[0m \u001b[32m━━━━━━━━━━━━━━━━━━━━\u001b[0m\u001b[37m\u001b[0m \u001b[1m10s\u001b[0m 22ms/step - accuracy: 0.9827 - loss: 0.0572 - val_accuracy: 0.9738 - val_loss: 0.0855\n",
            "Epoch 5/10\n",
            "\u001b[1m375/375\u001b[0m \u001b[32m━━━━━━━━━━━━━━━━━━━━\u001b[0m\u001b[37m\u001b[0m \u001b[1m10s\u001b[0m 22ms/step - accuracy: 0.9879 - loss: 0.0435 - val_accuracy: 0.9772 - val_loss: 0.0769\n",
            "Epoch 6/10\n",
            "\u001b[1m375/375\u001b[0m \u001b[32m━━━━━━━━━━━━━━━━━━━━\u001b[0m\u001b[37m\u001b[0m \u001b[1m9s\u001b[0m 18ms/step - accuracy: 0.9902 - loss: 0.0328 - val_accuracy: 0.9781 - val_loss: 0.0776\n",
            "Epoch 7/10\n",
            "\u001b[1m375/375\u001b[0m \u001b[32m━━━━━━━━━━━━━━━━━━━━\u001b[0m\u001b[37m\u001b[0m \u001b[1m10s\u001b[0m 28ms/step - accuracy: 0.9933 - loss: 0.0234 - val_accuracy: 0.9778 - val_loss: 0.0786\n",
            "Epoch 8/10\n",
            "\u001b[1m375/375\u001b[0m \u001b[32m━━━━━━━━━━━━━━━━━━━━\u001b[0m\u001b[37m\u001b[0m \u001b[1m18s\u001b[0m 21ms/step - accuracy: 0.9953 - loss: 0.0178 - val_accuracy: 0.9749 - val_loss: 0.0849\n",
            "Epoch 9/10\n",
            "\u001b[1m375/375\u001b[0m \u001b[32m━━━━━━━━━━━━━━━━━━━━\u001b[0m\u001b[37m\u001b[0m \u001b[1m7s\u001b[0m 20ms/step - accuracy: 0.9968 - loss: 0.0137 - val_accuracy: 0.9797 - val_loss: 0.0737\n",
            "Epoch 10/10\n",
            "\u001b[1m375/375\u001b[0m \u001b[32m━━━━━━━━━━━━━━━━━━━━\u001b[0m\u001b[37m\u001b[0m \u001b[1m9s\u001b[0m 23ms/step - accuracy: 0.9982 - loss: 0.0084 - val_accuracy: 0.9779 - val_loss: 0.0803\n"
          ]
        }
      ],
      "source": [
        "from tensorflow import keras\n",
        "from tensorflow.keras import layers\n",
        "\n",
        "def get_model():\n",
        "    model = keras.Sequential([\n",
        "        layers.Dense(512, activation=\"relu\"),\n",
        "        layers.Dense(10, activation=\"softmax\")\n",
        "    ])\n",
        "    model.compile(optimizer=\"rmsprop\",\n",
        "                  loss=\"sparse_categorical_crossentropy\",\n",
        "                  metrics=[\"accuracy\"])\n",
        "    return model\n",
        "\n",
        "model = get_model()\n",
        "history_noise = model.fit(\n",
        "    train_images_with_noise_channels, train_labels,\n",
        "    epochs=10,\n",
        "    batch_size=128,\n",
        "    validation_split=0.2)\n",
        "\n",
        "model = get_model()\n",
        "history_zeros = model.fit(\n",
        "    train_images_with_zeros_channels, train_labels,\n",
        "    epochs=10,\n",
        "    batch_size=128,\n",
        "    validation_split=0.2)"
      ]
    },
    {
      "cell_type": "markdown",
      "source": [
        "### Versão PyTorch:"
      ],
      "metadata": {
        "id": "wSBCh5t_BvPu"
      }
    },
    {
      "cell_type": "code",
      "source": [
        "import torch\n",
        "import torch.nn as nn\n",
        "import torch.optim as optim\n",
        "from torch.utils.data import TensorDataset, DataLoader\n",
        "\n",
        "class SimpleMLP(nn.Module):\n",
        "    def __init__(self):\n",
        "        super(SimpleMLP, self).__init__()\n",
        "        self.fc1 = nn.Linear(784 * 2, 512)\n",
        "        self.relu = nn.ReLU()\n",
        "        self.fc2 = nn.Linear(512, 10)\n",
        "\n",
        "    def forward(self, x):\n",
        "        x = self.relu(self.fc1(x))\n",
        "        x = self.fc2(x)\n",
        "        return x\n",
        "\n",
        "def train_model(X, y, epochs=10, batch_size=128):\n",
        "    model = SimpleMLP()\n",
        "    criterion = nn.CrossEntropyLoss()\n",
        "    optimizer = optim.RMSprop(model.parameters())\n",
        "\n",
        "    dataset = TensorDataset(torch.tensor(X, dtype=torch.float32),\n",
        "                            torch.tensor(y, dtype=torch.long))\n",
        "    dataloader = DataLoader(dataset, batch_size=batch_size, shuffle=True)\n",
        "\n",
        "    for epoch in range(epochs):\n",
        "        model.train()\n",
        "        total_loss = 0\n",
        "        correct = 0\n",
        "        total = 0\n",
        "        for batch_X, batch_y in dataloader:\n",
        "            optimizer.zero_grad()\n",
        "            outputs = model(batch_X)\n",
        "            loss = criterion(outputs, batch_y)\n",
        "            loss.backward()\n",
        "            optimizer.step()\n",
        "            total_loss += loss.item()\n",
        "            _, predicted = torch.max(outputs.data, 1)\n",
        "            total += batch_y.size(0)\n",
        "            correct += (predicted == batch_y).sum().item()\n",
        "        print(f\"Epoch {epoch+1}/{epochs} - Loss: {total_loss:.4f}, Accuracy: {correct / total:.4f}\")\n",
        "    return model\n",
        "\n",
        "# Treinamento com canais de ruído\n",
        "model_noise = train_model(train_images_with_noise_channels, train_labels)\n",
        "\n",
        "# Treinamento com canais zerados\n",
        "model_zeros = train_model(train_images_with_zeros_channels, train_labels)\n"
      ],
      "metadata": {
        "colab": {
          "base_uri": "https://localhost:8080/"
        },
        "id": "bIOJniFNBu3h",
        "outputId": "c84acd90-1950-4b3a-fe45-cd368c356943"
      },
      "execution_count": 4,
      "outputs": [
        {
          "output_type": "stream",
          "name": "stdout",
          "text": [
            "Epoch 1/10 - Loss: 2581.6771, Accuracy: 0.7636\n",
            "Epoch 2/10 - Loss: 251.7900, Accuracy: 0.8683\n",
            "Epoch 3/10 - Loss: 149.7970, Accuracy: 0.9089\n",
            "Epoch 4/10 - Loss: 175.2986, Accuracy: 0.9063\n",
            "Epoch 5/10 - Loss: 120.5447, Accuracy: 0.9253\n",
            "Epoch 6/10 - Loss: 117.3879, Accuracy: 0.9257\n",
            "Epoch 7/10 - Loss: 113.1605, Accuracy: 0.9294\n",
            "Epoch 8/10 - Loss: 105.8399, Accuracy: 0.9333\n",
            "Epoch 9/10 - Loss: 99.7906, Accuracy: 0.9355\n",
            "Epoch 10/10 - Loss: 99.0282, Accuracy: 0.9373\n",
            "Epoch 1/10 - Loss: 447.9969, Accuracy: 0.9186\n",
            "Epoch 2/10 - Loss: 62.4027, Accuracy: 0.9597\n",
            "Epoch 3/10 - Loss: 49.5667, Accuracy: 0.9696\n",
            "Epoch 4/10 - Loss: 41.4088, Accuracy: 0.9746\n",
            "Epoch 5/10 - Loss: 34.5523, Accuracy: 0.9786\n",
            "Epoch 6/10 - Loss: 30.3035, Accuracy: 0.9818\n",
            "Epoch 7/10 - Loss: 28.5541, Accuracy: 0.9835\n",
            "Epoch 8/10 - Loss: 25.4704, Accuracy: 0.9860\n",
            "Epoch 9/10 - Loss: 22.7037, Accuracy: 0.9869\n",
            "Epoch 10/10 - Loss: 23.8864, Accuracy: 0.9875\n"
          ]
        }
      ]
    },
    {
      "cell_type": "markdown",
      "metadata": {
        "id": "3vbjWL22-Pla"
      },
      "source": [
        "**Plotting a validation accuracy comparison**"
      ]
    },
    {
      "cell_type": "markdown",
      "source": [
        "### Versão Tensorflow:"
      ],
      "metadata": {
        "id": "E21m9PHCEHxv"
      }
    },
    {
      "cell_type": "code",
      "execution_count": 5,
      "metadata": {
        "colab": {
          "base_uri": "https://localhost:8080/",
          "height": 489
        },
        "id": "VnlwDJUb-Pla",
        "outputId": "968bec64-cab4-4c56-d7f8-e854c706d974"
      },
      "outputs": [
        {
          "output_type": "execute_result",
          "data": {
            "text/plain": [
              "<matplotlib.legend.Legend at 0x79c159be8ad0>"
            ]
          },
          "metadata": {},
          "execution_count": 5
        },
        {
          "output_type": "display_data",
          "data": {
            "text/plain": [
              "<Figure size 640x480 with 1 Axes>"
            ],
            "image/png": "[encoded data removed]"
          },
          "metadata": {}
        }
      ],
      "source": [
        "import matplotlib.pyplot as plt\n",
        "val_acc_noise = history_noise.history[\"val_accuracy\"]\n",
        "val_acc_zeros = history_zeros.history[\"val_accuracy\"]\n",
        "epochs = range(1, 11)\n",
        "plt.plot(epochs, val_acc_noise, \"b-\",\n",
        "         label=\"Validation accuracy with noise channels\")\n",
        "plt.plot(epochs, val_acc_zeros, \"b--\",\n",
        "         label=\"Validation accuracy with zeros channels\")\n",
        "plt.title(\"Effect of noise channels on validation accuracy\")\n",
        "plt.xlabel(\"Epochs\")\n",
        "plt.ylabel(\"Accuracy\")\n",
        "plt.legend()"
      ]
    },
    {
      "cell_type": "markdown",
      "source": [
        "### Versão PyTorch:"
      ],
      "metadata": {
        "id": "19gtS9eQEMKg"
      }
    },
    {
      "cell_type": "code",
      "source": [
        "import matplotlib.pyplot as plt\n",
        "\n",
        "epochs = range(1, len(val_acc_noise) + 1)\n",
        "plt.plot(epochs, val_acc_noise, \"b-\", label=\"Validation accuracy with noise channels\")\n",
        "plt.plot(epochs, val_acc_zeros, \"b--\", label=\"Validation accuracy with zeros channels\")\n",
        "plt.title(\"Effect of noise channels on validation accuracy\")\n",
        "plt.xlabel(\"Epochs\")\n",
        "plt.ylabel(\"Accuracy\")\n",
        "plt.legend()\n",
        "plt.show()\n"
      ],
      "metadata": {
        "colab": {
          "base_uri": "https://localhost:8080/",
          "height": 472
        },
        "id": "KpFqdkQvETmG",
        "outputId": "87e7e8c4-03ee-4da8-8d90-8421883b25e1"
      },
      "execution_count": 6,
      "outputs": [
        {
          "output_type": "display_data",
          "data": {
            "text/plain": [
              "<Figure size 640x480 with 1 Axes>"
            ],
            "image/png": "[encoded data removed]"
          },
          "metadata": {}
        }
      ]
    },
    {
      "cell_type": "markdown",
      "metadata": {
        "id": "4ZU0Qy95-Pla"
      },
      "source": [
        "### The nature of generalization in deep learning"
      ]
    },
    {
      "cell_type": "markdown",
      "metadata": {
        "id": "L4irhPMf-Pla"
      },
      "source": [
        "**Fitting a MNIST model with randomly shuffled labels**"
      ]
    },
    {
      "cell_type": "markdown",
      "source": [
        "### Versão Tensorflow:"
      ],
      "metadata": {
        "id": "QJ3q9tLyJC5T"
      }
    },
    {
      "cell_type": "code",
      "execution_count": 7,
      "metadata": {
        "colab": {
          "base_uri": "https://localhost:8080/"
        },
        "id": "skJJWoN7-Pla",
        "outputId": "db6a40cd-bbc5-48a4-917d-e6e1e0f79d85"
      },
      "outputs": [
        {
          "output_type": "stream",
          "name": "stdout",
          "text": [
            "Epoch 1/100\n",
            "\u001b[1m375/375\u001b[0m \u001b[32m━━━━━━━━━━━━━━━━━━━━\u001b[0m\u001b[37m\u001b[0m \u001b[1m5s\u001b[0m 10ms/step - accuracy: 0.1030 - loss: 2.3306 - val_accuracy: 0.0993 - val_loss: 2.3058\n",
            "Epoch 2/100\n",
            "\u001b[1m375/375\u001b[0m \u001b[32m━━━━━━━━━━━━━━━━━━━━\u001b[0m\u001b[37m\u001b[0m \u001b[1m4s\u001b[0m 10ms/step - accuracy: 0.1214 - loss: 2.2962 - val_accuracy: 0.1038 - val_loss: 2.3098\n",
            "Epoch 3/100\n",
            "\u001b[1m375/375\u001b[0m \u001b[32m━━━━━━━━━━━━━━━━━━━━\u001b[0m\u001b[37m\u001b[0m \u001b[1m5s\u001b[0m 9ms/step - accuracy: 0.1293 - loss: 2.2865 - val_accuracy: 0.1013 - val_loss: 2.3175\n",
            "Epoch 4/100\n",
            "\u001b[1m375/375\u001b[0m \u001b[32m━━━━━━━━━━━━━━━━━━━━\u001b[0m\u001b[37m\u001b[0m \u001b[1m4s\u001b[0m 11ms/step - accuracy: 0.1458 - loss: 2.2722 - val_accuracy: 0.1039 - val_loss: 2.3193\n",
            "Epoch 5/100\n",
            "\u001b[1m375/375\u001b[0m \u001b[32m━━━━━━━━━━━━━━━━━━━━\u001b[0m\u001b[37m\u001b[0m \u001b[1m6s\u001b[0m 15ms/step - accuracy: 0.1584 - loss: 2.2567 - val_accuracy: 0.1076 - val_loss: 2.3336\n",
            "Epoch 6/100\n",
            "\u001b[1m375/375\u001b[0m \u001b[32m━━━━━━━━━━━━━━━━━━━━\u001b[0m\u001b[37m\u001b[0m \u001b[1m9s\u001b[0m 11ms/step - accuracy: 0.1727 - loss: 2.2349 - val_accuracy: 0.1021 - val_loss: 2.3483\n",
            "Epoch 7/100\n",
            "\u001b[1m375/375\u001b[0m \u001b[32m━━━━━━━━━━━━━━━━━━━━\u001b[0m\u001b[37m\u001b[0m \u001b[1m6s\u001b[0m 13ms/step - accuracy: 0.1889 - loss: 2.2097 - val_accuracy: 0.1049 - val_loss: 2.3642\n",
            "Epoch 8/100\n",
            "\u001b[1m375/375\u001b[0m \u001b[32m━━━━━━━━━━━━━━━━━━━━\u001b[0m\u001b[37m\u001b[0m \u001b[1m4s\u001b[0m 11ms/step - accuracy: 0.2026 - loss: 2.1819 - val_accuracy: 0.1053 - val_loss: 2.3855\n",
            "Epoch 9/100\n",
            "\u001b[1m375/375\u001b[0m \u001b[32m━━━━━━━━━━━━━━━━━━━━\u001b[0m\u001b[37m\u001b[0m \u001b[1m7s\u001b[0m 15ms/step - accuracy: 0.2231 - loss: 2.1507 - val_accuracy: 0.1042 - val_loss: 2.4016\n",
            "Epoch 10/100\n",
            "\u001b[1m375/375\u001b[0m \u001b[32m━━━━━━━━━━━━━━━━━━━━\u001b[0m\u001b[37m\u001b[0m \u001b[1m4s\u001b[0m 11ms/step - accuracy: 0.2380 - loss: 2.1193 - val_accuracy: 0.1084 - val_loss: 2.4266\n",
            "Epoch 11/100\n",
            "\u001b[1m375/375\u001b[0m \u001b[32m━━━━━━━━━━━━━━━━━━━━\u001b[0m\u001b[37m\u001b[0m \u001b[1m9s\u001b[0m 20ms/step - accuracy: 0.2518 - loss: 2.0834 - val_accuracy: 0.0982 - val_loss: 2.4454\n",
            "Epoch 12/100\n",
            "\u001b[1m375/375\u001b[0m \u001b[32m━━━━━━━━━━━━━━━━━━━━\u001b[0m\u001b[37m\u001b[0m \u001b[1m6s\u001b[0m 15ms/step - accuracy: 0.2717 - loss: 2.0425 - val_accuracy: 0.1072 - val_loss: 2.4848\n",
            "Epoch 13/100\n",
            "\u001b[1m375/375\u001b[0m \u001b[32m━━━━━━━━━━━━━━━━━━━━\u001b[0m\u001b[37m\u001b[0m \u001b[1m4s\u001b[0m 12ms/step - accuracy: 0.2900 - loss: 2.0049 - val_accuracy: 0.1037 - val_loss: 2.4931\n",
            "Epoch 14/100\n",
            "\u001b[1m375/375\u001b[0m \u001b[32m━━━━━━━━━━━━━━━━━━━━\u001b[0m\u001b[37m\u001b[0m \u001b[1m6s\u001b[0m 15ms/step - accuracy: 0.3127 - loss: 1.9648 - val_accuracy: 0.1053 - val_loss: 2.5216\n",
            "Epoch 15/100\n",
            "\u001b[1m375/375\u001b[0m \u001b[32m━━━━━━━━━━━━━━━━━━━━\u001b[0m\u001b[37m\u001b[0m \u001b[1m4s\u001b[0m 12ms/step - accuracy: 0.3265 - loss: 1.9250 - val_accuracy: 0.1047 - val_loss: 2.5546\n",
            "Epoch 16/100\n",
            "\u001b[1m375/375\u001b[0m \u001b[32m━━━━━━━━━━━━━━━━━━━━\u001b[0m\u001b[37m\u001b[0m \u001b[1m4s\u001b[0m 12ms/step - accuracy: 0.3441 - loss: 1.8802 - val_accuracy: 0.1018 - val_loss: 2.5858\n",
            "Epoch 17/100\n",
            "\u001b[1m375/375\u001b[0m \u001b[32m━━━━━━━━━━━━━━━━━━━━\u001b[0m\u001b[37m\u001b[0m \u001b[1m5s\u001b[0m 14ms/step - accuracy: 0.3591 - loss: 1.8430 - val_accuracy: 0.1039 - val_loss: 2.6342\n",
            "Epoch 18/100\n",
            "\u001b[1m375/375\u001b[0m \u001b[32m━━━━━━━━━━━━━━━━━━━━\u001b[0m\u001b[37m\u001b[0m \u001b[1m11s\u001b[0m 15ms/step - accuracy: 0.3708 - loss: 1.8088 - val_accuracy: 0.1020 - val_loss: 2.6727\n",
            "Epoch 19/100\n",
            "\u001b[1m375/375\u001b[0m \u001b[32m━━━━━━━━━━━━━━━━━━━━\u001b[0m\u001b[37m\u001b[0m \u001b[1m8s\u001b[0m 10ms/step - accuracy: 0.3917 - loss: 1.7607 - val_accuracy: 0.1002 - val_loss: 2.7101\n",
            "Epoch 20/100\n",
            "\u001b[1m375/375\u001b[0m \u001b[32m━━━━━━━━━━━━━━━━━━━━\u001b[0m\u001b[37m\u001b[0m \u001b[1m6s\u001b[0m 15ms/step - accuracy: 0.4044 - loss: 1.7250 - val_accuracy: 0.0988 - val_loss: 2.7593\n",
            "Epoch 21/100\n",
            "\u001b[1m375/375\u001b[0m \u001b[32m━━━━━━━━━━━━━━━━━━━━\u001b[0m\u001b[37m\u001b[0m \u001b[1m4s\u001b[0m 11ms/step - accuracy: 0.4215 - loss: 1.6835 - val_accuracy: 0.1013 - val_loss: 2.8143\n",
            "Epoch 22/100\n",
            "\u001b[1m375/375\u001b[0m \u001b[32m━━━━━━━━━━━━━━━━━━━━\u001b[0m\u001b[37m\u001b[0m \u001b[1m6s\u001b[0m 14ms/step - accuracy: 0.4340 - loss: 1.6462 - val_accuracy: 0.0958 - val_loss: 2.8442\n",
            "Epoch 23/100\n",
            "\u001b[1m375/375\u001b[0m \u001b[32m━━━━━━━━━━━━━━━━━━━━\u001b[0m\u001b[37m\u001b[0m \u001b[1m9s\u001b[0m 11ms/step - accuracy: 0.4508 - loss: 1.6047 - val_accuracy: 0.1032 - val_loss: 2.8701\n",
            "Epoch 24/100\n",
            "\u001b[1m375/375\u001b[0m \u001b[32m━━━━━━━━━━━━━━━━━━━━\u001b[0m\u001b[37m\u001b[0m \u001b[1m5s\u001b[0m 14ms/step - accuracy: 0.4673 - loss: 1.5713 - val_accuracy: 0.0997 - val_loss: 2.9203\n",
            "Epoch 25/100\n",
            "\u001b[1m375/375\u001b[0m \u001b[32m━━━━━━━━━━━━━━━━━━━━\u001b[0m\u001b[37m\u001b[0m \u001b[1m4s\u001b[0m 12ms/step - accuracy: 0.4747 - loss: 1.5408 - val_accuracy: 0.0980 - val_loss: 2.9708\n",
            "Epoch 26/100\n",
            "\u001b[1m375/375\u001b[0m \u001b[32m━━━━━━━━━━━━━━━━━━━━\u001b[0m\u001b[37m\u001b[0m \u001b[1m4s\u001b[0m 12ms/step - accuracy: 0.4916 - loss: 1.5028 - val_accuracy: 0.1008 - val_loss: 3.0344\n",
            "Epoch 27/100\n",
            "\u001b[1m375/375\u001b[0m \u001b[32m━━━━━━━━━━━━━━━━━━━━\u001b[0m\u001b[37m\u001b[0m \u001b[1m5s\u001b[0m 14ms/step - accuracy: 0.5052 - loss: 1.4645 - val_accuracy: 0.1027 - val_loss: 3.0890\n",
            "Epoch 28/100\n",
            "\u001b[1m375/375\u001b[0m \u001b[32m━━━━━━━━━━━━━━━━━━━━\u001b[0m\u001b[37m\u001b[0m \u001b[1m4s\u001b[0m 12ms/step - accuracy: 0.5177 - loss: 1.4303 - val_accuracy: 0.0978 - val_loss: 3.1141\n",
            "Epoch 29/100\n",
            "\u001b[1m375/375\u001b[0m \u001b[32m━━━━━━━━━━━━━━━━━━━━\u001b[0m\u001b[37m\u001b[0m \u001b[1m6s\u001b[0m 13ms/step - accuracy: 0.5356 - loss: 1.3992 - val_accuracy: 0.0980 - val_loss: 3.1660\n",
            "Epoch 30/100\n",
            "\u001b[1m375/375\u001b[0m \u001b[32m━━━━━━━━━━━━━━━━━━━━\u001b[0m\u001b[37m\u001b[0m \u001b[1m4s\u001b[0m 12ms/step - accuracy: 0.5401 - loss: 1.3701 - val_accuracy: 0.0978 - val_loss: 3.2111\n",
            "Epoch 31/100\n",
            "\u001b[1m375/375\u001b[0m \u001b[32m━━━━━━━━━━━━━━━━━━━━\u001b[0m\u001b[37m\u001b[0m \u001b[1m5s\u001b[0m 12ms/step - accuracy: 0.5509 - loss: 1.3387 - val_accuracy: 0.1000 - val_loss: 3.2695\n",
            "Epoch 32/100\n",
            "\u001b[1m375/375\u001b[0m \u001b[32m━━━━━━━━━━━━━━━━━━━━\u001b[0m\u001b[37m\u001b[0m \u001b[1m6s\u001b[0m 14ms/step - accuracy: 0.5661 - loss: 1.3041 - val_accuracy: 0.1023 - val_loss: 3.3012\n",
            "Epoch 33/100\n",
            "\u001b[1m375/375\u001b[0m \u001b[32m━━━━━━━━━━━━━━━━━━━━\u001b[0m\u001b[37m\u001b[0m \u001b[1m5s\u001b[0m 12ms/step - accuracy: 0.5767 - loss: 1.2784 - val_accuracy: 0.1007 - val_loss: 3.3892\n",
            "Epoch 34/100\n",
            "\u001b[1m375/375\u001b[0m \u001b[32m━━━━━━━━━━━━━━━━━━━━\u001b[0m\u001b[37m\u001b[0m \u001b[1m6s\u001b[0m 15ms/step - accuracy: 0.5832 - loss: 1.2483 - val_accuracy: 0.1025 - val_loss: 3.4607\n",
            "Epoch 35/100\n",
            "\u001b[1m375/375\u001b[0m \u001b[32m━━━━━━━━━━━━━━━━━━━━\u001b[0m\u001b[37m\u001b[0m \u001b[1m9s\u001b[0m 11ms/step - accuracy: 0.5922 - loss: 1.2231 - val_accuracy: 0.0996 - val_loss: 3.5055\n",
            "Epoch 36/100\n",
            "\u001b[1m375/375\u001b[0m \u001b[32m━━━━━━━━━━━━━━━━━━━━\u001b[0m\u001b[37m\u001b[0m \u001b[1m6s\u001b[0m 14ms/step - accuracy: 0.5995 - loss: 1.1966 - val_accuracy: 0.1032 - val_loss: 3.5625\n",
            "Epoch 37/100\n",
            "\u001b[1m375/375\u001b[0m \u001b[32m━━━━━━━━━━━━━━━━━━━━\u001b[0m\u001b[37m\u001b[0m \u001b[1m10s\u001b[0m 14ms/step - accuracy: 0.6072 - loss: 1.1784 - val_accuracy: 0.0966 - val_loss: 3.6143\n",
            "Epoch 38/100\n",
            "\u001b[1m375/375\u001b[0m \u001b[32m━━━━━━━━━━━━━━━━━━━━\u001b[0m\u001b[37m\u001b[0m \u001b[1m9s\u001b[0m 11ms/step - accuracy: 0.6249 - loss: 1.1438 - val_accuracy: 0.0993 - val_loss: 3.6861\n",
            "Epoch 39/100\n",
            "\u001b[1m375/375\u001b[0m \u001b[32m━━━━━━━━━━━━━━━━━━━━\u001b[0m\u001b[37m\u001b[0m \u001b[1m6s\u001b[0m 13ms/step - accuracy: 0.6306 - loss: 1.1150 - val_accuracy: 0.0985 - val_loss: 3.7343\n",
            "Epoch 40/100\n",
            "\u001b[1m375/375\u001b[0m \u001b[32m━━━━━━━━━━━━━━━━━━━━\u001b[0m\u001b[37m\u001b[0m \u001b[1m4s\u001b[0m 12ms/step - accuracy: 0.6434 - loss: 1.0924 - val_accuracy: 0.0953 - val_loss: 3.8162\n",
            "Epoch 41/100\n",
            "\u001b[1m375/375\u001b[0m \u001b[32m━━━━━━━━━━━━━━━━━━━━\u001b[0m\u001b[37m\u001b[0m \u001b[1m5s\u001b[0m 13ms/step - accuracy: 0.6456 - loss: 1.0768 - val_accuracy: 0.1001 - val_loss: 3.8323\n",
            "Epoch 42/100\n",
            "\u001b[1m375/375\u001b[0m \u001b[32m━━━━━━━━━━━━━━━━━━━━\u001b[0m\u001b[37m\u001b[0m \u001b[1m4s\u001b[0m 12ms/step - accuracy: 0.6544 - loss: 1.0516 - val_accuracy: 0.0982 - val_loss: 3.8958\n",
            "Epoch 43/100\n",
            "\u001b[1m375/375\u001b[0m \u001b[32m━━━━━━━━━━━━━━━━━━━━\u001b[0m\u001b[37m\u001b[0m \u001b[1m4s\u001b[0m 12ms/step - accuracy: 0.6665 - loss: 1.0295 - val_accuracy: 0.0987 - val_loss: 3.9922\n",
            "Epoch 44/100\n",
            "\u001b[1m375/375\u001b[0m \u001b[32m━━━━━━━━━━━━━━━━━━━━\u001b[0m\u001b[37m\u001b[0m \u001b[1m5s\u001b[0m 15ms/step - accuracy: 0.6700 - loss: 1.0039 - val_accuracy: 0.1009 - val_loss: 4.0505\n",
            "Epoch 45/100\n",
            "\u001b[1m375/375\u001b[0m \u001b[32m━━━━━━━━━━━━━━━━━━━━\u001b[0m\u001b[37m\u001b[0m \u001b[1m9s\u001b[0m 12ms/step - accuracy: 0.6778 - loss: 0.9877 - val_accuracy: 0.0978 - val_loss: 4.1019\n",
            "Epoch 46/100\n",
            "\u001b[1m375/375\u001b[0m \u001b[32m━━━━━━━━━━━━━━━━━━━━\u001b[0m\u001b[37m\u001b[0m \u001b[1m5s\u001b[0m 12ms/step - accuracy: 0.6898 - loss: 0.9613 - val_accuracy: 0.0993 - val_loss: 4.1345\n",
            "Epoch 47/100\n",
            "\u001b[1m375/375\u001b[0m \u001b[32m━━━━━━━━━━━━━━━━━━━━\u001b[0m\u001b[37m\u001b[0m \u001b[1m5s\u001b[0m 12ms/step - accuracy: 0.6922 - loss: 0.9423 - val_accuracy: 0.1029 - val_loss: 4.2467\n",
            "Epoch 48/100\n",
            "\u001b[1m375/375\u001b[0m \u001b[32m━━━━━━━━━━━━━━━━━━━━\u001b[0m\u001b[37m\u001b[0m \u001b[1m5s\u001b[0m 14ms/step - accuracy: 0.7034 - loss: 0.9156 - val_accuracy: 0.0996 - val_loss: 4.2926\n",
            "Epoch 49/100\n",
            "\u001b[1m375/375\u001b[0m \u001b[32m━━━━━━━━━━━━━━━━━━━━\u001b[0m\u001b[37m\u001b[0m \u001b[1m4s\u001b[0m 11ms/step - accuracy: 0.7063 - loss: 0.8985 - val_accuracy: 0.1009 - val_loss: 4.3619\n",
            "Epoch 50/100\n",
            "\u001b[1m375/375\u001b[0m \u001b[32m━━━━━━━━━━━━━━━━━━━━\u001b[0m\u001b[37m\u001b[0m \u001b[1m4s\u001b[0m 12ms/step - accuracy: 0.7137 - loss: 0.8839 - val_accuracy: 0.1007 - val_loss: 4.4130\n",
            "Epoch 51/100\n",
            "\u001b[1m375/375\u001b[0m \u001b[32m━━━━━━━━━━━━━━━━━━━━\u001b[0m\u001b[37m\u001b[0m \u001b[1m6s\u001b[0m 14ms/step - accuracy: 0.7234 - loss: 0.8618 - val_accuracy: 0.1009 - val_loss: 4.4955\n",
            "Epoch 52/100\n",
            "\u001b[1m375/375\u001b[0m \u001b[32m━━━━━━━━━━━━━━━━━━━━\u001b[0m\u001b[37m\u001b[0m \u001b[1m10s\u001b[0m 14ms/step - accuracy: 0.7229 - loss: 0.8508 - val_accuracy: 0.0987 - val_loss: 4.5252\n",
            "Epoch 53/100\n",
            "\u001b[1m375/375\u001b[0m \u001b[32m━━━━━━━━━━━━━━━━━━━━\u001b[0m\u001b[37m\u001b[0m \u001b[1m9s\u001b[0m 11ms/step - accuracy: 0.7319 - loss: 0.8383 - val_accuracy: 0.0969 - val_loss: 4.6505\n",
            "Epoch 54/100\n",
            "\u001b[1m375/375\u001b[0m \u001b[32m━━━━━━━━━━━━━━━━━━━━\u001b[0m\u001b[37m\u001b[0m \u001b[1m6s\u001b[0m 15ms/step - accuracy: 0.7390 - loss: 0.8106 - val_accuracy: 0.0983 - val_loss: 4.6614\n",
            "Epoch 55/100\n",
            "\u001b[1m375/375\u001b[0m \u001b[32m━━━━━━━━━━━━━━━━━━━━\u001b[0m\u001b[37m\u001b[0m \u001b[1m4s\u001b[0m 11ms/step - accuracy: 0.7435 - loss: 0.7923 - val_accuracy: 0.0995 - val_loss: 4.7596\n",
            "Epoch 56/100\n",
            "\u001b[1m375/375\u001b[0m \u001b[32m━━━━━━━━━━━━━━━━━━━━\u001b[0m\u001b[37m\u001b[0m \u001b[1m6s\u001b[0m 14ms/step - accuracy: 0.7470 - loss: 0.7832 - val_accuracy: 0.1015 - val_loss: 4.8214\n",
            "Epoch 57/100\n",
            "\u001b[1m375/375\u001b[0m \u001b[32m━━━━━━━━━━━━━━━━━━━━\u001b[0m\u001b[37m\u001b[0m \u001b[1m9s\u001b[0m 11ms/step - accuracy: 0.7534 - loss: 0.7658 - val_accuracy: 0.1016 - val_loss: 4.8719\n",
            "Epoch 58/100\n",
            "\u001b[1m375/375\u001b[0m \u001b[32m━━━━━━━━━━━━━━━━━━━━\u001b[0m\u001b[37m\u001b[0m \u001b[1m6s\u001b[0m 15ms/step - accuracy: 0.7600 - loss: 0.7430 - val_accuracy: 0.0990 - val_loss: 4.9779\n",
            "Epoch 59/100\n",
            "\u001b[1m375/375\u001b[0m \u001b[32m━━━━━━━━━━━━━━━━━━━━\u001b[0m\u001b[37m\u001b[0m \u001b[1m10s\u001b[0m 15ms/step - accuracy: 0.7657 - loss: 0.7321 - val_accuracy: 0.1049 - val_loss: 5.0214\n",
            "Epoch 60/100\n",
            "\u001b[1m375/375\u001b[0m \u001b[32m━━━━━━━━━━━━━━━━━━━━\u001b[0m\u001b[37m\u001b[0m \u001b[1m9s\u001b[0m 11ms/step - accuracy: 0.7721 - loss: 0.7130 - val_accuracy: 0.1047 - val_loss: 5.1060\n",
            "Epoch 61/100\n",
            "\u001b[1m375/375\u001b[0m \u001b[32m━━━━━━━━━━━━━━━━━━━━\u001b[0m\u001b[37m\u001b[0m \u001b[1m7s\u001b[0m 15ms/step - accuracy: 0.7754 - loss: 0.7084 - val_accuracy: 0.0996 - val_loss: 5.1965\n",
            "Epoch 62/100\n",
            "\u001b[1m375/375\u001b[0m \u001b[32m━━━━━━━━━━━━━━━━━━━━\u001b[0m\u001b[37m\u001b[0m \u001b[1m5s\u001b[0m 12ms/step - accuracy: 0.7795 - loss: 0.6914 - val_accuracy: 0.1023 - val_loss: 5.2463\n",
            "Epoch 63/100\n",
            "\u001b[1m375/375\u001b[0m \u001b[32m━━━━━━━━━━━━━━━━━━━━\u001b[0m\u001b[37m\u001b[0m \u001b[1m6s\u001b[0m 15ms/step - accuracy: 0.7849 - loss: 0.6786 - val_accuracy: 0.1001 - val_loss: 5.3319\n",
            "Epoch 64/100\n",
            "\u001b[1m375/375\u001b[0m \u001b[32m━━━━━━━━━━━━━━━━━━━━\u001b[0m\u001b[37m\u001b[0m \u001b[1m4s\u001b[0m 11ms/step - accuracy: 0.7879 - loss: 0.6678 - val_accuracy: 0.1042 - val_loss: 5.3702\n",
            "Epoch 65/100\n",
            "\u001b[1m375/375\u001b[0m \u001b[32m━━━━━━━━━━━━━━━━━━━━\u001b[0m\u001b[37m\u001b[0m \u001b[1m5s\u001b[0m 11ms/step - accuracy: 0.7949 - loss: 0.6453 - val_accuracy: 0.1018 - val_loss: 5.4987\n",
            "Epoch 66/100\n",
            "\u001b[1m375/375\u001b[0m \u001b[32m━━━━━━━━━━━━━━━━━━━━\u001b[0m\u001b[37m\u001b[0m \u001b[1m6s\u001b[0m 13ms/step - accuracy: 0.7956 - loss: 0.6385 - val_accuracy: 0.1015 - val_loss: 5.5086\n",
            "Epoch 67/100\n",
            "\u001b[1m375/375\u001b[0m \u001b[32m━━━━━━━━━━━━━━━━━━━━\u001b[0m\u001b[37m\u001b[0m \u001b[1m4s\u001b[0m 11ms/step - accuracy: 0.8073 - loss: 0.6160 - val_accuracy: 0.1042 - val_loss: 5.5899\n",
            "Epoch 68/100\n",
            "\u001b[1m375/375\u001b[0m \u001b[32m━━━━━━━━━━━━━━━━━━━━\u001b[0m\u001b[37m\u001b[0m \u001b[1m6s\u001b[0m 14ms/step - accuracy: 0.8086 - loss: 0.6065 - val_accuracy: 0.1009 - val_loss: 5.6889\n",
            "Epoch 69/100\n",
            "\u001b[1m375/375\u001b[0m \u001b[32m━━━━━━━━━━━━━━━━━━━━\u001b[0m\u001b[37m\u001b[0m \u001b[1m4s\u001b[0m 11ms/step - accuracy: 0.8115 - loss: 0.5982 - val_accuracy: 0.1023 - val_loss: 5.6910\n",
            "Epoch 70/100\n",
            "\u001b[1m375/375\u001b[0m \u001b[32m━━━━━━━━━━━━━━━━━━━━\u001b[0m\u001b[37m\u001b[0m \u001b[1m5s\u001b[0m 11ms/step - accuracy: 0.8165 - loss: 0.5811 - val_accuracy: 0.1037 - val_loss: 5.8103\n",
            "Epoch 71/100\n",
            "\u001b[1m375/375\u001b[0m \u001b[32m━━━━━━━━━━━━━━━━━━━━\u001b[0m\u001b[37m\u001b[0m \u001b[1m6s\u001b[0m 15ms/step - accuracy: 0.8190 - loss: 0.5740 - val_accuracy: 0.0985 - val_loss: 5.9337\n",
            "Epoch 72/100\n",
            "\u001b[1m375/375\u001b[0m \u001b[32m━━━━━━━━━━━━━━━━━━━━\u001b[0m\u001b[37m\u001b[0m \u001b[1m10s\u001b[0m 13ms/step - accuracy: 0.8240 - loss: 0.5648 - val_accuracy: 0.1004 - val_loss: 5.9908\n",
            "Epoch 73/100\n",
            "\u001b[1m375/375\u001b[0m \u001b[32m━━━━━━━━━━━━━━━━━━━━\u001b[0m\u001b[37m\u001b[0m \u001b[1m5s\u001b[0m 12ms/step - accuracy: 0.8242 - loss: 0.5598 - val_accuracy: 0.1018 - val_loss: 5.9837\n",
            "Epoch 74/100\n",
            "\u001b[1m375/375\u001b[0m \u001b[32m━━━━━━━━━━━━━━━━━━━━\u001b[0m\u001b[37m\u001b[0m \u001b[1m5s\u001b[0m 12ms/step - accuracy: 0.8334 - loss: 0.5344 - val_accuracy: 0.0974 - val_loss: 6.1036\n",
            "Epoch 75/100\n",
            "\u001b[1m375/375\u001b[0m \u001b[32m━━━━━━━━━━━━━━━━━━━━\u001b[0m\u001b[37m\u001b[0m \u001b[1m6s\u001b[0m 15ms/step - accuracy: 0.8329 - loss: 0.5313 - val_accuracy: 0.0980 - val_loss: 6.1716\n",
            "Epoch 76/100\n",
            "\u001b[1m375/375\u001b[0m \u001b[32m━━━━━━━━━━━━━━━━━━━━\u001b[0m\u001b[37m\u001b[0m \u001b[1m4s\u001b[0m 12ms/step - accuracy: 0.8412 - loss: 0.5162 - val_accuracy: 0.0993 - val_loss: 6.2462\n",
            "Epoch 77/100\n",
            "\u001b[1m375/375\u001b[0m \u001b[32m━━━━━━━━━━━━━━━━━━━━\u001b[0m\u001b[37m\u001b[0m \u001b[1m5s\u001b[0m 14ms/step - accuracy: 0.8392 - loss: 0.5146 - val_accuracy: 0.1019 - val_loss: 6.3429\n",
            "Epoch 78/100\n",
            "\u001b[1m375/375\u001b[0m \u001b[32m━━━━━━━━━━━━━━━━━━━━\u001b[0m\u001b[37m\u001b[0m \u001b[1m5s\u001b[0m 12ms/step - accuracy: 0.8481 - loss: 0.4948 - val_accuracy: 0.1031 - val_loss: 6.3647\n",
            "Epoch 79/100\n",
            "\u001b[1m375/375\u001b[0m \u001b[32m━━━━━━━━━━━━━━━━━━━━\u001b[0m\u001b[37m\u001b[0m \u001b[1m5s\u001b[0m 12ms/step - accuracy: 0.8463 - loss: 0.4917 - val_accuracy: 0.1035 - val_loss: 6.4971\n",
            "Epoch 80/100\n",
            "\u001b[1m375/375\u001b[0m \u001b[32m━━━━━━━━━━━━━━━━━━━━\u001b[0m\u001b[37m\u001b[0m \u001b[1m5s\u001b[0m 14ms/step - accuracy: 0.8508 - loss: 0.4812 - val_accuracy: 0.1028 - val_loss: 6.5185\n",
            "Epoch 81/100\n",
            "\u001b[1m375/375\u001b[0m \u001b[32m━━━━━━━━━━━━━━━━━━━━\u001b[0m\u001b[37m\u001b[0m \u001b[1m9s\u001b[0m 12ms/step - accuracy: 0.8550 - loss: 0.4715 - val_accuracy: 0.1020 - val_loss: 6.6148\n",
            "Epoch 82/100\n",
            "\u001b[1m375/375\u001b[0m \u001b[32m━━━━━━━━━━━━━━━━━━━━\u001b[0m\u001b[37m\u001b[0m \u001b[1m5s\u001b[0m 14ms/step - accuracy: 0.8579 - loss: 0.4615 - val_accuracy: 0.0990 - val_loss: 6.6768\n",
            "Epoch 83/100\n",
            "\u001b[1m375/375\u001b[0m \u001b[32m━━━━━━━━━━━━━━━━━━━━\u001b[0m\u001b[37m\u001b[0m \u001b[1m10s\u001b[0m 14ms/step - accuracy: 0.8592 - loss: 0.4559 - val_accuracy: 0.0993 - val_loss: 6.7435\n",
            "Epoch 84/100\n",
            "\u001b[1m375/375\u001b[0m \u001b[32m━━━━━━━━━━━━━━━━━━━━\u001b[0m\u001b[37m\u001b[0m \u001b[1m9s\u001b[0m 12ms/step - accuracy: 0.8608 - loss: 0.4463 - val_accuracy: 0.1007 - val_loss: 6.8454\n",
            "Epoch 85/100\n",
            "\u001b[1m375/375\u001b[0m \u001b[32m━━━━━━━━━━━━━━━━━━━━\u001b[0m\u001b[37m\u001b[0m \u001b[1m6s\u001b[0m 15ms/step - accuracy: 0.8669 - loss: 0.4313 - val_accuracy: 0.1025 - val_loss: 6.8921\n",
            "Epoch 86/100\n",
            "\u001b[1m375/375\u001b[0m \u001b[32m━━━━━━━━━━━━━━━━━━━━\u001b[0m\u001b[37m\u001b[0m \u001b[1m4s\u001b[0m 11ms/step - accuracy: 0.8672 - loss: 0.4326 - val_accuracy: 0.1012 - val_loss: 7.0329\n",
            "Epoch 87/100\n",
            "\u001b[1m375/375\u001b[0m \u001b[32m━━━━━━━━━━━━━━━━━━━━\u001b[0m\u001b[37m\u001b[0m \u001b[1m7s\u001b[0m 16ms/step - accuracy: 0.8731 - loss: 0.4166 - val_accuracy: 0.1017 - val_loss: 7.0563\n",
            "Epoch 88/100\n",
            "\u001b[1m375/375\u001b[0m \u001b[32m━━━━━━━━━━━━━━━━━━━━\u001b[0m\u001b[37m\u001b[0m \u001b[1m4s\u001b[0m 12ms/step - accuracy: 0.8741 - loss: 0.4144 - val_accuracy: 0.1002 - val_loss: 7.1259\n",
            "Epoch 89/100\n",
            "\u001b[1m375/375\u001b[0m \u001b[32m━━━━━━━━━━━━━━━━━━━━\u001b[0m\u001b[37m\u001b[0m \u001b[1m5s\u001b[0m 12ms/step - accuracy: 0.8782 - loss: 0.4009 - val_accuracy: 0.1023 - val_loss: 7.2259\n",
            "Epoch 90/100\n",
            "\u001b[1m375/375\u001b[0m \u001b[32m━━━━━━━━━━━━━━━━━━━━\u001b[0m\u001b[37m\u001b[0m \u001b[1m6s\u001b[0m 14ms/step - accuracy: 0.8815 - loss: 0.3951 - val_accuracy: 0.1005 - val_loss: 7.2554\n",
            "Epoch 91/100\n",
            "\u001b[1m375/375\u001b[0m \u001b[32m━━━━━━━━━━━━━━━━━━━━\u001b[0m\u001b[37m\u001b[0m \u001b[1m4s\u001b[0m 12ms/step - accuracy: 0.8768 - loss: 0.3932 - val_accuracy: 0.1025 - val_loss: 7.3457\n",
            "Epoch 92/100\n",
            "\u001b[1m375/375\u001b[0m \u001b[32m━━━━━━━━━━━━━━━━━━━━\u001b[0m\u001b[37m\u001b[0m \u001b[1m5s\u001b[0m 14ms/step - accuracy: 0.8819 - loss: 0.3875 - val_accuracy: 0.1024 - val_loss: 7.4573\n",
            "Epoch 93/100\n",
            "\u001b[1m375/375\u001b[0m \u001b[32m━━━━━━━━━━━━━━━━━━━━\u001b[0m\u001b[37m\u001b[0m \u001b[1m4s\u001b[0m 12ms/step - accuracy: 0.8849 - loss: 0.3782 - val_accuracy: 0.1013 - val_loss: 7.5491\n",
            "Epoch 94/100\n",
            "\u001b[1m375/375\u001b[0m \u001b[32m━━━━━━━━━━━━━━━━━━━━\u001b[0m\u001b[37m\u001b[0m \u001b[1m5s\u001b[0m 12ms/step - accuracy: 0.8890 - loss: 0.3692 - val_accuracy: 0.1019 - val_loss: 7.5537\n",
            "Epoch 95/100\n",
            "\u001b[1m375/375\u001b[0m \u001b[32m━━━━━━━━━━━━━━━━━━━━\u001b[0m\u001b[37m\u001b[0m \u001b[1m5s\u001b[0m 14ms/step - accuracy: 0.8913 - loss: 0.3624 - val_accuracy: 0.1019 - val_loss: 7.7034\n",
            "Epoch 96/100\n",
            "\u001b[1m375/375\u001b[0m \u001b[32m━━━━━━━━━━━━━━━━━━━━\u001b[0m\u001b[37m\u001b[0m \u001b[1m10s\u001b[0m 13ms/step - accuracy: 0.8915 - loss: 0.3596 - val_accuracy: 0.0975 - val_loss: 7.7322\n",
            "Epoch 97/100\n",
            "\u001b[1m375/375\u001b[0m \u001b[32m━━━━━━━━━━━━━━━━━━━━\u001b[0m\u001b[37m\u001b[0m \u001b[1m5s\u001b[0m 13ms/step - accuracy: 0.8937 - loss: 0.3513 - val_accuracy: 0.1009 - val_loss: 7.7801\n",
            "Epoch 98/100\n",
            "\u001b[1m375/375\u001b[0m \u001b[32m━━━━━━━━━━━━━━━━━━━━\u001b[0m\u001b[37m\u001b[0m \u001b[1m5s\u001b[0m 12ms/step - accuracy: 0.8957 - loss: 0.3449 - val_accuracy: 0.1016 - val_loss: 7.9317\n",
            "Epoch 99/100\n",
            "\u001b[1m375/375\u001b[0m \u001b[32m━━━━━━━━━━━━━━━━━━━━\u001b[0m\u001b[37m\u001b[0m \u001b[1m6s\u001b[0m 15ms/step - accuracy: 0.8978 - loss: 0.3371 - val_accuracy: 0.1026 - val_loss: 7.9351\n",
            "Epoch 100/100\n",
            "\u001b[1m375/375\u001b[0m \u001b[32m━━━━━━━━━━━━━━━━━━━━\u001b[0m\u001b[37m\u001b[0m \u001b[1m4s\u001b[0m 12ms/step - accuracy: 0.8987 - loss: 0.3354 - val_accuracy: 0.1000 - val_loss: 8.0223\n"
          ]
        },
        {
          "output_type": "execute_result",
          "data": {
            "text/plain": [
              "<keras.src.callbacks.history.History at 0x79c158214850>"
            ]
          },
          "metadata": {},
          "execution_count": 7
        }
      ],
      "source": [
        "(train_images, train_labels), _ = mnist.load_data()\n",
        "train_images = train_images.reshape((60000, 28 * 28))\n",
        "train_images = train_images.astype(\"float32\") / 255\n",
        "\n",
        "random_train_labels = train_labels[:]\n",
        "np.random.shuffle(random_train_labels)\n",
        "\n",
        "model = keras.Sequential([\n",
        "    layers.Dense(512, activation=\"relu\"),\n",
        "    layers.Dense(10, activation=\"softmax\")\n",
        "])\n",
        "model.compile(optimizer=\"rmsprop\",\n",
        "              loss=\"sparse_categorical_crossentropy\",\n",
        "              metrics=[\"accuracy\"])\n",
        "model.fit(train_images, random_train_labels,\n",
        "          epochs=100,\n",
        "          batch_size=128,\n",
        "          validation_split=0.2)"
      ]
    },
    {
      "cell_type": "markdown",
      "source": [
        "### Versão PyTorch:"
      ],
      "metadata": {
        "id": "dKBI81kpJQcH"
      }
    },
    {
      "cell_type": "code",
      "source": [
        "import torch\n",
        "import torch.nn as nn\n",
        "import torch.optim as optim\n",
        "from torchvision import datasets, transforms\n",
        "from torch.utils.data import DataLoader, TensorDataset, random_split\n",
        "import numpy as np\n",
        "\n",
        "# Carregando MNIST\n",
        "transform = transforms.Compose([transforms.ToTensor()])\n",
        "mnist = datasets.MNIST(root='.', train=True, download=True, transform=transform)\n",
        "train_images = mnist.data.view(-1, 28*28).float() / 255\n",
        "train_labels = mnist.targets\n",
        "\n",
        "# Embaralhar os rótulos\n",
        "random_train_labels = train_labels.clone()\n",
        "random_train_labels = random_train_labels[torch.randperm(len(random_train_labels))]\n",
        "\n",
        "# Criar dataset com rótulos embaralhados\n",
        "dataset = TensorDataset(train_images, random_train_labels)\n",
        "train_size = int(0.8 * len(dataset))\n",
        "val_size = len(dataset) - train_size\n",
        "train_dataset, val_dataset = random_split(dataset, [train_size, val_size])\n",
        "\n",
        "train_loader = DataLoader(train_dataset, batch_size=128, shuffle=True)\n",
        "val_loader = DataLoader(val_dataset, batch_size=128)\n",
        "\n",
        "# Definir modelo\n",
        "class RandomLabelModel(nn.Module):\n",
        "    def __init__(self):\n",
        "        super(RandomLabelModel, self).__init__()\n",
        "        self.fc1 = nn.Linear(784, 512)\n",
        "        self.relu = nn.ReLU()\n",
        "        self.fc2 = nn.Linear(512, 10)\n",
        "\n",
        "    def forward(self, x):\n",
        "        x = self.relu(self.fc1(x))\n",
        "        x = self.fc2(x)\n",
        "        return x\n",
        "\n",
        "model = RandomLabelModel()\n",
        "criterion = nn.CrossEntropyLoss()\n",
        "optimizer = optim.RMSprop(model.parameters())\n",
        "\n",
        "# Treinamento\n",
        "for epoch in range(100):\n",
        "    model.train()\n",
        "    for batch_X, batch_y in train_loader:\n",
        "        optimizer.zero_grad()\n",
        "        outputs = model(batch_X)\n",
        "        loss = criterion(outputs, batch_y)\n",
        "        loss.backward()\n",
        "        optimizer.step()\n",
        "    print(f\"Epoch {epoch+1} concluída.\")\n"
      ],
      "metadata": {
        "colab": {
          "base_uri": "https://localhost:8080/"
        },
        "id": "GU9SDu1zJSUp",
        "outputId": "197dfe69-a663-4cec-8539-db2da66553ba"
      },
      "execution_count": 8,
      "outputs": [
        {
          "output_type": "stream",
          "name": "stdout",
          "text": [
            "Epoch 1 concluída.\n",
            "Epoch 2 concluída.\n",
            "Epoch 3 concluída.\n",
            "Epoch 4 concluída.\n",
            "Epoch 5 concluída.\n",
            "Epoch 6 concluída.\n",
            "Epoch 7 concluída.\n",
            "Epoch 8 concluída.\n",
            "Epoch 9 concluída.\n",
            "Epoch 10 concluída.\n",
            "Epoch 11 concluída.\n",
            "Epoch 12 concluída.\n",
            "Epoch 13 concluída.\n",
            "Epoch 14 concluída.\n",
            "Epoch 15 concluída.\n",
            "Epoch 16 concluída.\n",
            "Epoch 17 concluída.\n",
            "Epoch 18 concluída.\n",
            "Epoch 19 concluída.\n",
            "Epoch 20 concluída.\n",
            "Epoch 21 concluída.\n",
            "Epoch 22 concluída.\n",
            "Epoch 23 concluída.\n",
            "Epoch 24 concluída.\n",
            "Epoch 25 concluída.\n",
            "Epoch 26 concluída.\n",
            "Epoch 27 concluída.\n",
            "Epoch 28 concluída.\n",
            "Epoch 29 concluída.\n",
            "Epoch 30 concluída.\n",
            "Epoch 31 concluída.\n",
            "Epoch 32 concluída.\n",
            "Epoch 33 concluída.\n",
            "Epoch 34 concluída.\n",
            "Epoch 35 concluída.\n",
            "Epoch 36 concluída.\n",
            "Epoch 37 concluída.\n",
            "Epoch 38 concluída.\n",
            "Epoch 39 concluída.\n",
            "Epoch 40 concluída.\n",
            "Epoch 41 concluída.\n",
            "Epoch 42 concluída.\n",
            "Epoch 43 concluída.\n",
            "Epoch 44 concluída.\n",
            "Epoch 45 concluída.\n",
            "Epoch 46 concluída.\n",
            "Epoch 47 concluída.\n",
            "Epoch 48 concluída.\n",
            "Epoch 49 concluída.\n",
            "Epoch 50 concluída.\n",
            "Epoch 51 concluída.\n",
            "Epoch 52 concluída.\n",
            "Epoch 53 concluída.\n",
            "Epoch 54 concluída.\n",
            "Epoch 55 concluída.\n",
            "Epoch 56 concluída.\n",
            "Epoch 57 concluída.\n",
            "Epoch 58 concluída.\n",
            "Epoch 59 concluída.\n",
            "Epoch 60 concluída.\n",
            "Epoch 61 concluída.\n",
            "Epoch 62 concluída.\n",
            "Epoch 63 concluída.\n",
            "Epoch 64 concluída.\n",
            "Epoch 65 concluída.\n",
            "Epoch 66 concluída.\n",
            "Epoch 67 concluída.\n",
            "Epoch 68 concluída.\n",
            "Epoch 69 concluída.\n",
            "Epoch 70 concluída.\n",
            "Epoch 71 concluída.\n",
            "Epoch 72 concluída.\n",
            "Epoch 73 concluída.\n",
            "Epoch 74 concluída.\n",
            "Epoch 75 concluída.\n",
            "Epoch 76 concluída.\n",
            "Epoch 77 concluída.\n",
            "Epoch 78 concluída.\n",
            "Epoch 79 concluída.\n",
            "Epoch 80 concluída.\n",
            "Epoch 81 concluída.\n",
            "Epoch 82 concluída.\n",
            "Epoch 83 concluída.\n",
            "Epoch 84 concluída.\n",
            "Epoch 85 concluída.\n",
            "Epoch 86 concluída.\n",
            "Epoch 87 concluída.\n",
            "Epoch 88 concluída.\n",
            "Epoch 89 concluída.\n",
            "Epoch 90 concluída.\n",
            "Epoch 91 concluída.\n",
            "Epoch 92 concluída.\n",
            "Epoch 93 concluída.\n",
            "Epoch 94 concluída.\n",
            "Epoch 95 concluída.\n",
            "Epoch 96 concluída.\n",
            "Epoch 97 concluída.\n",
            "Epoch 98 concluída.\n",
            "Epoch 99 concluída.\n",
            "Epoch 100 concluída.\n"
          ]
        }
      ]
    },
    {
      "cell_type": "markdown",
      "metadata": {
        "id": "c-hj9qRh-Pla"
      },
      "source": [
        "#### The manifold hypothesis"
      ]
    },
    {
      "cell_type": "markdown",
      "metadata": {
        "id": "QLHBGeHR-Pla"
      },
      "source": [
        "#### Interpolation as a source of generalization"
      ]
    },
    {
      "cell_type": "markdown",
      "metadata": {
        "id": "yjVjbhbo-Pla"
      },
      "source": [
        "#### Why deep learning works"
      ]
    },
    {
      "cell_type": "markdown",
      "metadata": {
        "id": "8OR5h0I4-Pla"
      },
      "source": [
        "#### Training data is paramount"
      ]
    },
    {
      "cell_type": "markdown",
      "metadata": {
        "id": "qyIIVvIk-Pla"
      },
      "source": [
        "## Evaluating machine-learning models"
      ]
    },
    {
      "cell_type": "markdown",
      "metadata": {
        "id": "nc8ysFLv-Pla"
      },
      "source": [
        "### Training, validation, and test sets"
      ]
    },
    {
      "cell_type": "markdown",
      "metadata": {
        "id": "DxIqsXgq-Pla"
      },
      "source": [
        "#### Simple hold-out validation"
      ]
    },
    {
      "cell_type": "markdown",
      "metadata": {
        "id": "6ejzk1nS-Pla"
      },
      "source": [
        "#### K-fold validation"
      ]
    },
    {
      "cell_type": "markdown",
      "metadata": {
        "id": "W-QcTppQ-Pla"
      },
      "source": [
        "#### Iterated K-fold validation with shuffling"
      ]
    },
    {
      "cell_type": "markdown",
      "metadata": {
        "id": "vMWvQ-9c-Pla"
      },
      "source": [
        "### Beating a common-sense baseline"
      ]
    },
    {
      "cell_type": "markdown",
      "metadata": {
        "id": "2j_suqat-Plb"
      },
      "source": [
        "### Things to keep in mind about model evaluation"
      ]
    },
    {
      "cell_type": "markdown",
      "metadata": {
        "id": "9Ftu6dcH-Plb"
      },
      "source": [
        "## Improving model fit"
      ]
    },
    {
      "cell_type": "markdown",
      "metadata": {
        "id": "F65V1TIR-Plb"
      },
      "source": [
        "### Tuning key gradient descent parameters"
      ]
    },
    {
      "cell_type": "markdown",
      "metadata": {
        "id": "k90OJj6G-Plb"
      },
      "source": [
        "**Training a MNIST model with an incorrectly high learning rate**"
      ]
    },
    {
      "cell_type": "markdown",
      "source": [
        "### Versão Tensorflow:"
      ],
      "metadata": {
        "id": "bYxHqCSKQqBH"
      }
    },
    {
      "cell_type": "code",
      "execution_count": 10,
      "metadata": {
        "colab": {
          "base_uri": "https://localhost:8080/"
        },
        "id": "sSk04vsB-Plb",
        "outputId": "fc172157-878b-4128-ca23-7fd9b99fe6ce"
      },
      "outputs": [
        {
          "output_type": "stream",
          "name": "stdout",
          "text": [
            "Epoch 1/10\n",
            "\u001b[1m375/375\u001b[0m \u001b[32m━━━━━━━━━━━━━━━━━━━━\u001b[0m\u001b[37m\u001b[0m \u001b[1m5s\u001b[0m 12ms/step - accuracy: 0.4367 - loss: 3364.6167 - val_accuracy: 0.2442 - val_loss: 2.4858\n",
            "Epoch 2/10\n",
            "\u001b[1m375/375\u001b[0m \u001b[32m━━━━━━━━━━━━━━━━━━━━\u001b[0m\u001b[37m\u001b[0m \u001b[1m5s\u001b[0m 12ms/step - accuracy: 0.2169 - loss: 2.8412 - val_accuracy: 0.2411 - val_loss: 2.1878\n",
            "Epoch 3/10\n",
            "\u001b[1m375/375\u001b[0m \u001b[32m━━━━━━━━━━━━━━━━━━━━\u001b[0m\u001b[37m\u001b[0m \u001b[1m6s\u001b[0m 13ms/step - accuracy: 0.2200 - loss: 2.3442 - val_accuracy: 0.2005 - val_loss: 2.3859\n",
            "Epoch 4/10\n",
            "\u001b[1m375/375\u001b[0m \u001b[32m━━━━━━━━━━━━━━━━━━━━\u001b[0m\u001b[37m\u001b[0m \u001b[1m4s\u001b[0m 12ms/step - accuracy: 0.2154 - loss: 2.3919 - val_accuracy: 0.2164 - val_loss: 2.1707\n",
            "Epoch 5/10\n",
            "\u001b[1m375/375\u001b[0m \u001b[32m━━━━━━━━━━━━━━━━━━━━\u001b[0m\u001b[37m\u001b[0m \u001b[1m7s\u001b[0m 16ms/step - accuracy: 0.2174 - loss: 2.5001 - val_accuracy: 0.2021 - val_loss: 2.3311\n",
            "Epoch 6/10\n",
            "\u001b[1m375/375\u001b[0m \u001b[32m━━━━━━━━━━━━━━━━━━━━\u001b[0m\u001b[37m\u001b[0m \u001b[1m4s\u001b[0m 11ms/step - accuracy: 0.2088 - loss: 2.3331 - val_accuracy: 0.2323 - val_loss: 2.1514\n",
            "Epoch 7/10\n",
            "\u001b[1m375/375\u001b[0m \u001b[32m━━━━━━━━━━━━━━━━━━━━\u001b[0m\u001b[37m\u001b[0m \u001b[1m4s\u001b[0m 12ms/step - accuracy: 0.2208 - loss: 2.4367 - val_accuracy: 0.2375 - val_loss: 2.1971\n",
            "Epoch 8/10\n",
            "\u001b[1m375/375\u001b[0m \u001b[32m━━━━━━━━━━━━━━━━━━━━\u001b[0m\u001b[37m\u001b[0m \u001b[1m5s\u001b[0m 13ms/step - accuracy: 0.2118 - loss: 2.1498 - val_accuracy: 0.2314 - val_loss: 2.1280\n",
            "Epoch 9/10\n",
            "\u001b[1m375/375\u001b[0m \u001b[32m━━━━━━━━━━━━━━━━━━━━\u001b[0m\u001b[37m\u001b[0m \u001b[1m4s\u001b[0m 11ms/step - accuracy: 0.2177 - loss: 2.3132 - val_accuracy: 0.2337 - val_loss: 2.2412\n",
            "Epoch 10/10\n",
            "\u001b[1m375/375\u001b[0m \u001b[32m━━━━━━━━━━━━━━━━━━━━\u001b[0m\u001b[37m\u001b[0m \u001b[1m5s\u001b[0m 14ms/step - accuracy: 0.2251 - loss: 2.2666 - val_accuracy: 0.2172 - val_loss: 2.1111\n"
          ]
        },
        {
          "output_type": "execute_result",
          "data": {
            "text/plain": [
              "<keras.src.callbacks.history.History at 0x79c03a1f7450>"
            ]
          },
          "metadata": {},
          "execution_count": 10
        }
      ],
      "source": [
        "from tensorflow.keras.datasets import mnist\n",
        "from tensorflow import keras\n",
        "from tensorflow.keras import layers\n",
        "\n",
        "# Carregar o dataset\n",
        "(train_images, train_labels), _ = mnist.load_data()\n",
        "train_images = train_images.reshape((60000, 28 * 28))\n",
        "train_images = train_images.astype(\"float32\") / 255\n",
        "\n",
        "# Definir e compilar o modelo\n",
        "model = keras.Sequential([\n",
        "    layers.Dense(512, activation=\"relu\"),\n",
        "    layers.Dense(10, activation=\"softmax\")\n",
        "])\n",
        "model.compile(optimizer=keras.optimizers.RMSprop(1.),\n",
        "              loss=\"sparse_categorical_crossentropy\",\n",
        "              metrics=[\"accuracy\"])\n",
        "\n",
        "# Treinar o modelo\n",
        "model.fit(train_images, train_labels,\n",
        "          epochs=10,\n",
        "          batch_size=128,\n",
        "          validation_split=0.2)"
      ]
    },
    {
      "cell_type": "markdown",
      "source": [
        "### Versão PyTorch:"
      ],
      "metadata": {
        "id": "sjLOcdB9Q26l"
      }
    },
    {
      "cell_type": "code",
      "source": [
        "import torch\n",
        "import torch.nn as nn\n",
        "import torch.optim as optim\n",
        "from torchvision import datasets, transforms\n",
        "from torch.utils.data import DataLoader, random_split, TensorDataset\n",
        "\n",
        "# Carregar o dataset MNIST (normalizado e achatado)\n",
        "transform = transforms.Compose([\n",
        "    transforms.ToTensor(),  # Transforma em tensor (C, H, W)\n",
        "    transforms.Lambda(lambda x: x.view(-1))  # Achata para vetor de 784\n",
        "])\n",
        "\n",
        "mnist_dataset = datasets.MNIST(root='.', train=True, download=True, transform=transform)\n",
        "\n",
        "# Divide em treino e validação (80% treino, 20% validação)\n",
        "train_size = int(0.8 * len(mnist_dataset))\n",
        "val_size = len(mnist_dataset) - train_size\n",
        "train_dataset, val_dataset = random_split(mnist_dataset, [train_size, val_size])\n",
        "\n",
        "# DataLoaders\n",
        "train_loader = DataLoader(train_dataset, batch_size=128, shuffle=True)\n",
        "val_loader = DataLoader(val_dataset, batch_size=128)\n",
        "\n",
        "# Definir o modelo\n",
        "class SimpleNN(nn.Module):\n",
        "    def __init__(self):\n",
        "        super(SimpleNN, self).__init__()\n",
        "        self.fc1 = nn.Linear(784, 512)\n",
        "        self.relu = nn.ReLU()\n",
        "        self.fc2 = nn.Linear(512, 10)\n",
        "\n",
        "    def forward(self, x):\n",
        "        x = self.relu(self.fc1(x))\n",
        "        return self.fc2(x)\n",
        "\n",
        "model = SimpleNN()\n",
        "\n",
        "# Função de perda e otimizador\n",
        "criterion = nn.CrossEntropyLoss()\n",
        "optimizer = optim.RMSprop(model.parameters(), lr=1.0)\n",
        "\n",
        "# Treinamento\n",
        "for epoch in range(10):\n",
        "    model.train()\n",
        "    for images, labels in train_loader:\n",
        "        optimizer.zero_grad()\n",
        "        outputs = model(images)\n",
        "        loss = criterion(outputs, labels)\n",
        "        loss.backward()\n",
        "        optimizer.step()\n",
        "\n",
        "    # Avaliação no conjunto de validação\n",
        "    model.eval()\n",
        "    correct = 0\n",
        "    total = 0\n",
        "    with torch.no_grad():\n",
        "        for images, labels in val_loader:\n",
        "            outputs = model(images)\n",
        "            _, predicted = torch.max(outputs, 1)\n",
        "            total += labels.size(0)\n",
        "            correct += (predicted == labels).sum().item()\n",
        "    accuracy = correct / total\n",
        "    print(f\"Epoch {epoch+1}, Val Accuracy: {accuracy:.4f}\")\n"
      ],
      "metadata": {
        "colab": {
          "base_uri": "https://localhost:8080/"
        },
        "id": "sIu6MgeYQ6yE",
        "outputId": "356f9a5b-6901-45f1-a9f9-f5e130cd805c"
      },
      "execution_count": 11,
      "outputs": [
        {
          "output_type": "stream",
          "name": "stdout",
          "text": [
            "Epoch 1, Val Accuracy: 0.4456\n",
            "Epoch 2, Val Accuracy: 0.2817\n",
            "Epoch 3, Val Accuracy: 0.2481\n",
            "Epoch 4, Val Accuracy: 0.2150\n",
            "Epoch 5, Val Accuracy: 0.2425\n",
            "Epoch 6, Val Accuracy: 0.1940\n",
            "Epoch 7, Val Accuracy: 0.2031\n",
            "Epoch 8, Val Accuracy: 0.1772\n",
            "Epoch 9, Val Accuracy: 0.2195\n",
            "Epoch 10, Val Accuracy: 0.1650\n"
          ]
        }
      ]
    },
    {
      "cell_type": "markdown",
      "metadata": {
        "id": "YeL3SiqZ-Plb"
      },
      "source": [
        "**The same model with a more appropriate learning rate**"
      ]
    },
    {
      "cell_type": "markdown",
      "source": [
        "### Versão Tensorflow:"
      ],
      "metadata": {
        "id": "fFB4kR1zSLOG"
      }
    },
    {
      "cell_type": "code",
      "execution_count": 12,
      "metadata": {
        "colab": {
          "base_uri": "https://localhost:8080/"
        },
        "id": "f-muV9oY-Plb",
        "outputId": "c1c5e2cb-6396-44a9-ea79-b4afb8bb986a"
      },
      "outputs": [
        {
          "output_type": "stream",
          "name": "stdout",
          "text": [
            "Epoch 1/10\n",
            "\u001b[1m375/375\u001b[0m \u001b[32m━━━━━━━━━━━━━━━━━━━━\u001b[0m\u001b[37m\u001b[0m \u001b[1m6s\u001b[0m 14ms/step - accuracy: 0.8298 - loss: 0.9353 - val_accuracy: 0.9592 - val_loss: 0.1426\n",
            "Epoch 2/10\n",
            "\u001b[1m375/375\u001b[0m \u001b[32m━━━━━━━━━━━━━━━━━━━━\u001b[0m\u001b[37m\u001b[0m \u001b[1m6s\u001b[0m 16ms/step - accuracy: 0.9642 - loss: 0.1264 - val_accuracy: 0.9452 - val_loss: 0.1965\n",
            "Epoch 3/10\n",
            "\u001b[1m375/375\u001b[0m \u001b[32m━━━━━━━━━━━━━━━━━━━━\u001b[0m\u001b[37m\u001b[0m \u001b[1m8s\u001b[0m 11ms/step - accuracy: 0.9743 - loss: 0.0913 - val_accuracy: 0.9648 - val_loss: 0.1634\n",
            "Epoch 4/10\n",
            "\u001b[1m375/375\u001b[0m \u001b[32m━━━━━━━━━━━━━━━━━━━━\u001b[0m\u001b[37m\u001b[0m \u001b[1m6s\u001b[0m 14ms/step - accuracy: 0.9801 - loss: 0.0741 - val_accuracy: 0.9701 - val_loss: 0.1634\n",
            "Epoch 5/10\n",
            "\u001b[1m375/375\u001b[0m \u001b[32m━━━━━━━━━━━━━━━━━━━━\u001b[0m\u001b[37m\u001b[0m \u001b[1m12s\u001b[0m 18ms/step - accuracy: 0.9833 - loss: 0.0669 - val_accuracy: 0.9733 - val_loss: 0.1686\n",
            "Epoch 6/10\n",
            "\u001b[1m375/375\u001b[0m \u001b[32m━━━━━━━━━━━━━━━━━━━━\u001b[0m\u001b[37m\u001b[0m \u001b[1m5s\u001b[0m 12ms/step - accuracy: 0.9868 - loss: 0.0539 - val_accuracy: 0.9718 - val_loss: 0.1576\n",
            "Epoch 7/10\n",
            "\u001b[1m375/375\u001b[0m \u001b[32m━━━━━━━━━━━━━━━━━━━━\u001b[0m\u001b[37m\u001b[0m \u001b[1m5s\u001b[0m 12ms/step - accuracy: 0.9886 - loss: 0.0437 - val_accuracy: 0.9723 - val_loss: 0.1853\n",
            "Epoch 8/10\n",
            "\u001b[1m375/375\u001b[0m \u001b[32m━━━━━━━━━━━━━━━━━━━━\u001b[0m\u001b[37m\u001b[0m \u001b[1m5s\u001b[0m 13ms/step - accuracy: 0.9893 - loss: 0.0453 - val_accuracy: 0.9714 - val_loss: 0.1845\n",
            "Epoch 9/10\n",
            "\u001b[1m375/375\u001b[0m \u001b[32m━━━━━━━━━━━━━━━━━━━━\u001b[0m\u001b[37m\u001b[0m \u001b[1m4s\u001b[0m 11ms/step - accuracy: 0.9912 - loss: 0.0374 - val_accuracy: 0.9694 - val_loss: 0.2587\n",
            "Epoch 10/10\n",
            "\u001b[1m375/375\u001b[0m \u001b[32m━━━━━━━━━━━━━━━━━━━━\u001b[0m\u001b[37m\u001b[0m \u001b[1m5s\u001b[0m 14ms/step - accuracy: 0.9909 - loss: 0.0398 - val_accuracy: 0.9715 - val_loss: 0.2562\n"
          ]
        },
        {
          "output_type": "execute_result",
          "data": {
            "text/plain": [
              "<keras.src.callbacks.history.History at 0x79c03a2099d0>"
            ]
          },
          "metadata": {},
          "execution_count": 12
        }
      ],
      "source": [
        "model = keras.Sequential([\n",
        "    layers.Dense(512, activation=\"relu\"),\n",
        "    layers.Dense(10, activation=\"softmax\")\n",
        "])\n",
        "model.compile(optimizer=keras.optimizers.RMSprop(1e-2),\n",
        "              loss=\"sparse_categorical_crossentropy\",\n",
        "              metrics=[\"accuracy\"])\n",
        "model.fit(train_images, train_labels,\n",
        "          epochs=10,\n",
        "          batch_size=128,\n",
        "          validation_split=0.2)"
      ]
    },
    {
      "cell_type": "markdown",
      "source": [
        "### Versão PyTorch:"
      ],
      "metadata": {
        "id": "a4sR84t7Tq2k"
      }
    },
    {
      "cell_type": "code",
      "source": [
        "import torch.nn as nn\n",
        "import torch.optim as optim\n",
        "\n",
        "# Definição do modelo\n",
        "model = nn.Sequential(\n",
        "    nn.Linear(28*28, 512),  # assumindo entrada 28x28\n",
        "    nn.ReLU(),\n",
        "    nn.Linear(512, 10),\n",
        "    nn.Softmax(dim=1)\n",
        ")\n",
        "\n",
        "# Otimizador e função de perda\n",
        "optimizer = optim.RMSprop(model.parameters(), lr=1e-2)\n",
        "criterion = nn.CrossEntropyLoss()"
      ],
      "metadata": {
        "id": "xZD-WNKGTvbS"
      },
      "execution_count": 13,
      "outputs": []
    },
    {
      "cell_type": "markdown",
      "metadata": {
        "id": "6OUVQsbi-Plb"
      },
      "source": [
        "### Leveraging better architecture priors"
      ]
    },
    {
      "cell_type": "markdown",
      "metadata": {
        "id": "t_y74xz7-Plb"
      },
      "source": [
        "### Increasing model capacity"
      ]
    },
    {
      "cell_type": "markdown",
      "metadata": {
        "id": "O2iHkKhX-Plb"
      },
      "source": [
        "**A simple logistic regression on MNIST**"
      ]
    },
    {
      "cell_type": "markdown",
      "source": [
        "### Versão Tensorflow:"
      ],
      "metadata": {
        "id": "AG9ikuq8VMfP"
      }
    },
    {
      "cell_type": "code",
      "execution_count": 14,
      "metadata": {
        "colab": {
          "base_uri": "https://localhost:8080/"
        },
        "id": "HCAPk5VZ-Plb",
        "outputId": "e310c8d6-884c-468d-81fc-5707d5e04e02"
      },
      "outputs": [
        {
          "output_type": "stream",
          "name": "stdout",
          "text": [
            "Epoch 1/20\n",
            "\u001b[1m375/375\u001b[0m \u001b[32m━━━━━━━━━━━━━━━━━━━━\u001b[0m\u001b[37m\u001b[0m \u001b[1m2s\u001b[0m 3ms/step - accuracy: 0.7408 - loss: 1.0338 - val_accuracy: 0.9021 - val_loss: 0.3592\n",
            "Epoch 2/20\n",
            "\u001b[1m375/375\u001b[0m \u001b[32m━━━━━━━━━━━━━━━━━━━━\u001b[0m\u001b[37m\u001b[0m \u001b[1m1s\u001b[0m 3ms/step - accuracy: 0.9004 - loss: 0.3667 - val_accuracy: 0.9123 - val_loss: 0.3100\n",
            "Epoch 3/20\n",
            "\u001b[1m375/375\u001b[0m \u001b[32m━━━━━━━━━━━━━━━━━━━━\u001b[0m\u001b[37m\u001b[0m \u001b[1m3s\u001b[0m 8ms/step - accuracy: 0.9115 - loss: 0.3208 - val_accuracy: 0.9192 - val_loss: 0.2915\n",
            "Epoch 4/20\n",
            "\u001b[1m375/375\u001b[0m \u001b[32m━━━━━━━━━━━━━━━━━━━━\u001b[0m\u001b[37m\u001b[0m \u001b[1m3s\u001b[0m 3ms/step - accuracy: 0.9153 - loss: 0.3104 - val_accuracy: 0.9206 - val_loss: 0.2840\n",
            "Epoch 5/20\n",
            "\u001b[1m375/375\u001b[0m \u001b[32m━━━━━━━━━━━━━━━━━━━━\u001b[0m\u001b[37m\u001b[0m \u001b[1m2s\u001b[0m 4ms/step - accuracy: 0.9176 - loss: 0.2947 - val_accuracy: 0.9226 - val_loss: 0.2785\n",
            "Epoch 6/20\n",
            "\u001b[1m375/375\u001b[0m \u001b[32m━━━━━━━━━━━━━━━━━━━━\u001b[0m\u001b[37m\u001b[0m \u001b[1m2s\u001b[0m 3ms/step - accuracy: 0.9203 - loss: 0.2893 - val_accuracy: 0.9250 - val_loss: 0.2739\n",
            "Epoch 7/20\n",
            "\u001b[1m375/375\u001b[0m \u001b[32m━━━━━━━━━━━━━━━━━━━━\u001b[0m\u001b[37m\u001b[0m \u001b[1m1s\u001b[0m 3ms/step - accuracy: 0.9235 - loss: 0.2753 - val_accuracy: 0.9261 - val_loss: 0.2715\n",
            "Epoch 8/20\n",
            "\u001b[1m375/375\u001b[0m \u001b[32m━━━━━━━━━━━━━━━━━━━━\u001b[0m\u001b[37m\u001b[0m \u001b[1m1s\u001b[0m 3ms/step - accuracy: 0.9225 - loss: 0.2758 - val_accuracy: 0.9261 - val_loss: 0.2697\n",
            "Epoch 9/20\n",
            "\u001b[1m375/375\u001b[0m \u001b[32m━━━━━━━━━━━━━━━━━━━━\u001b[0m\u001b[37m\u001b[0m \u001b[1m3s\u001b[0m 5ms/step - accuracy: 0.9225 - loss: 0.2728 - val_accuracy: 0.9268 - val_loss: 0.2686\n",
            "Epoch 10/20\n",
            "\u001b[1m375/375\u001b[0m \u001b[32m━━━━━━━━━━━━━━━━━━━━\u001b[0m\u001b[37m\u001b[0m \u001b[1m2s\u001b[0m 3ms/step - accuracy: 0.9252 - loss: 0.2732 - val_accuracy: 0.9281 - val_loss: 0.2668\n",
            "Epoch 11/20\n",
            "\u001b[1m375/375\u001b[0m \u001b[32m━━━━━━━━━━━━━━━━━━━━\u001b[0m\u001b[37m\u001b[0m \u001b[1m1s\u001b[0m 3ms/step - accuracy: 0.9272 - loss: 0.2643 - val_accuracy: 0.9293 - val_loss: 0.2646\n",
            "Epoch 12/20\n",
            "\u001b[1m375/375\u001b[0m \u001b[32m━━━━━━━━━━━━━━━━━━━━\u001b[0m\u001b[37m\u001b[0m \u001b[1m1s\u001b[0m 3ms/step - accuracy: 0.9269 - loss: 0.2637 - val_accuracy: 0.9286 - val_loss: 0.2663\n",
            "Epoch 13/20\n",
            "\u001b[1m375/375\u001b[0m \u001b[32m━━━━━━━━━━━━━━━━━━━━\u001b[0m\u001b[37m\u001b[0m \u001b[1m1s\u001b[0m 3ms/step - accuracy: 0.9290 - loss: 0.2561 - val_accuracy: 0.9272 - val_loss: 0.2655\n",
            "Epoch 14/20\n",
            "\u001b[1m375/375\u001b[0m \u001b[32m━━━━━━━━━━━━━━━━━━━━\u001b[0m\u001b[37m\u001b[0m \u001b[1m1s\u001b[0m 3ms/step - accuracy: 0.9262 - loss: 0.2619 - val_accuracy: 0.9287 - val_loss: 0.2641\n",
            "Epoch 15/20\n",
            "\u001b[1m375/375\u001b[0m \u001b[32m━━━━━━━━━━━━━━━━━━━━\u001b[0m\u001b[37m\u001b[0m \u001b[1m1s\u001b[0m 3ms/step - accuracy: 0.9272 - loss: 0.2656 - val_accuracy: 0.9289 - val_loss: 0.2651\n",
            "Epoch 16/20\n",
            "\u001b[1m375/375\u001b[0m \u001b[32m━━━━━━━━━━━━━━━━━━━━\u001b[0m\u001b[37m\u001b[0m \u001b[1m1s\u001b[0m 3ms/step - accuracy: 0.9277 - loss: 0.2633 - val_accuracy: 0.9277 - val_loss: 0.2642\n",
            "Epoch 17/20\n",
            "\u001b[1m375/375\u001b[0m \u001b[32m━━━━━━━━━━━━━━━━━━━━\u001b[0m\u001b[37m\u001b[0m \u001b[1m1s\u001b[0m 3ms/step - accuracy: 0.9274 - loss: 0.2598 - val_accuracy: 0.9302 - val_loss: 0.2639\n",
            "Epoch 18/20\n",
            "\u001b[1m375/375\u001b[0m \u001b[32m━━━━━━━━━━━━━━━━━━━━\u001b[0m\u001b[37m\u001b[0m \u001b[1m3s\u001b[0m 8ms/step - accuracy: 0.9272 - loss: 0.2620 - val_accuracy: 0.9299 - val_loss: 0.2640\n",
            "Epoch 19/20\n",
            "\u001b[1m375/375\u001b[0m \u001b[32m━━━━━━━━━━━━━━━━━━━━\u001b[0m\u001b[37m\u001b[0m \u001b[1m1s\u001b[0m 3ms/step - accuracy: 0.9282 - loss: 0.2624 - val_accuracy: 0.9310 - val_loss: 0.2611\n",
            "Epoch 20/20\n",
            "\u001b[1m375/375\u001b[0m \u001b[32m━━━━━━━━━━━━━━━━━━━━\u001b[0m\u001b[37m\u001b[0m \u001b[1m1s\u001b[0m 3ms/step - accuracy: 0.9303 - loss: 0.2574 - val_accuracy: 0.9299 - val_loss: 0.2641\n"
          ]
        }
      ],
      "source": [
        "model = keras.Sequential([layers.Dense(10, activation=\"softmax\")])\n",
        "model.compile(optimizer=\"rmsprop\",\n",
        "              loss=\"sparse_categorical_crossentropy\",\n",
        "              metrics=[\"accuracy\"])\n",
        "history_small_model = model.fit(\n",
        "    train_images, train_labels,\n",
        "    epochs=20,\n",
        "    batch_size=128,\n",
        "    validation_split=0.2)"
      ]
    },
    {
      "cell_type": "markdown",
      "source": [
        "### Versão PyTorch:"
      ],
      "metadata": {
        "id": "kuIpTw9OVZXP"
      }
    },
    {
      "cell_type": "code",
      "source": [
        "import torch.nn as nn\n",
        "import torch.optim as optim\n",
        "\n",
        "# Modelo — sem Softmax aqui, porque CrossEntropyLoss já aplica internamente\n",
        "model = nn.Sequential(\n",
        "    nn.Linear(784, 10)  # assumindo imagens 28x28 achatadas\n",
        ")\n",
        "\n",
        "# Otimizador e função de perda\n",
        "optimizer = optim.RMSprop(model.parameters(), lr=0.001)\n",
        "criterion = nn.CrossEntropyLoss()\n",
        "\n",
        "# O model.fit(...) não tem equivalente direto no PyTorch e precisa ser implementado com loop de treinamento"
      ],
      "metadata": {
        "id": "5yJje8CnVbA9"
      },
      "execution_count": 15,
      "outputs": []
    },
    {
      "cell_type": "markdown",
      "source": [
        "### Versão Tensorflow:"
      ],
      "metadata": {
        "id": "gPZBg02wWoG3"
      }
    },
    {
      "cell_type": "code",
      "execution_count": 16,
      "metadata": {
        "colab": {
          "base_uri": "https://localhost:8080/",
          "height": 489
        },
        "id": "YW1L5QeK-Plb",
        "outputId": "a8d10dfd-6b38-4f29-bdea-a040e9a9842e"
      },
      "outputs": [
        {
          "output_type": "execute_result",
          "data": {
            "text/plain": [
              "<matplotlib.legend.Legend at 0x79c167ea6b10>"
            ]
          },
          "metadata": {},
          "execution_count": 16
        },
        {
          "output_type": "display_data",
          "data": {
            "text/plain": [
              "<Figure size 640x480 with 1 Axes>"
            ],
            "image/png": "[encoded data removed]"
          },
          "metadata": {}
        }
      ],
      "source": [
        "import matplotlib.pyplot as plt\n",
        "val_loss = history_small_model.history[\"val_loss\"]\n",
        "epochs = range(1, 21)\n",
        "plt.plot(epochs, val_loss, \"b--\",\n",
        "         label=\"Validation loss\")\n",
        "plt.title(\"Effect of insufficient model capacity on validation loss\")\n",
        "plt.xlabel(\"Epochs\")\n",
        "plt.ylabel(\"Loss\")\n",
        "plt.legend()"
      ]
    },
    {
      "cell_type": "markdown",
      "source": [
        "### Versão PyTorch:"
      ],
      "metadata": {
        "id": "_jnsChhPW01q"
      }
    },
    {
      "cell_type": "code",
      "source": [
        "import torch\n",
        "import torch.nn as nn\n",
        "import torch.optim as optim\n",
        "from torch.utils.data import TensorDataset, DataLoader\n",
        "import numpy as np\n",
        "import matplotlib.pyplot as plt\n",
        "\n",
        "# Simulando os dados vetorizados (como na vetorização do IMDB)\n",
        "train_data = np.random.rand(20000, 10000)\n",
        "train_labels = np.random.randint(0, 2, size=(20000,))\n",
        "\n",
        "# Separando treino e validação (validation_split=0.2)\n",
        "split = int(0.8 * len(train_data))\n",
        "train_inputs = torch.tensor(train_data[:split], dtype=torch.float32)\n",
        "train_targets = torch.tensor(train_labels[:split], dtype=torch.float32)\n",
        "\n",
        "val_inputs = torch.tensor(train_data[split:], dtype=torch.float32)\n",
        "val_targets = torch.tensor(train_labels[split:], dtype=torch.float32)\n",
        "\n",
        "# Criando os DataLoaders\n",
        "train_dataset = TensorDataset(train_inputs, train_targets)\n",
        "val_dataset = TensorDataset(val_inputs, val_targets)\n",
        "\n",
        "train_loader = DataLoader(train_dataset, batch_size=512, shuffle=True)\n",
        "val_loader = DataLoader(val_dataset, batch_size=512)\n",
        "\n",
        "# Definindo o modelo com PyTorch\n",
        "model = nn.Sequential(\n",
        "    nn.Linear(10000, 16),\n",
        "    nn.ReLU(),\n",
        "    nn.Linear(16, 16),\n",
        "    nn.ReLU(),\n",
        "    nn.Linear(16, 1),\n",
        "    nn.Sigmoid()\n",
        ")\n",
        "\n",
        "optimizer = optim.RMSprop(model.parameters(), lr=0.001)\n",
        "criterion = nn.BCELoss()\n",
        "\n",
        "val_loss_list = []\n",
        "\n",
        "# Loop de treino e validação\n",
        "for epoch in range(20):\n",
        "    model.train()\n",
        "    for inputs, labels in train_loader:\n",
        "        outputs = model(inputs).squeeze()\n",
        "        loss = criterion(outputs, labels)\n",
        "        optimizer.zero_grad()\n",
        "        loss.backward()\n",
        "        optimizer.step()\n",
        "\n",
        "    # Validação\n",
        "    model.eval()\n",
        "    running_val_loss = 0.0\n",
        "    with torch.no_grad():\n",
        "        for inputs, labels in val_loader:\n",
        "            outputs = model(inputs).squeeze()\n",
        "            loss = criterion(outputs, labels)\n",
        "            running_val_loss += loss.item()\n",
        "\n",
        "    avg_val_loss = running_val_loss / len(val_loader)\n",
        "    val_loss_list.append(avg_val_loss)\n",
        "    print(f\"Epoch {epoch+1}, Val Loss: {avg_val_loss:.4f}\")\n",
        "\n",
        "# Plotando a curva de validação\n",
        "epochs = range(1, 21)\n",
        "plt.plot(epochs, val_loss_list, \"b--\", label=\"Validation loss\")\n",
        "plt.title(\"Effect of insufficient model capacity on validation loss\")\n",
        "plt.xlabel(\"Epochs\")\n",
        "plt.ylabel(\"Loss\")\n",
        "plt.legend()\n",
        "plt.show()\n"
      ],
      "metadata": {
        "colab": {
          "base_uri": "https://localhost:8080/",
          "height": 819
        },
        "id": "CC7k0bC3W2pK",
        "outputId": "d6692122-0aeb-42e9-f4c5-a9095bdfeef6"
      },
      "execution_count": 26,
      "outputs": [
        {
          "output_type": "stream",
          "name": "stdout",
          "text": [
            "Epoch 1, Val Loss: 0.7159\n",
            "Epoch 2, Val Loss: 0.6934\n",
            "Epoch 3, Val Loss: 0.6952\n",
            "Epoch 4, Val Loss: 0.6933\n",
            "Epoch 5, Val Loss: 0.6992\n",
            "Epoch 6, Val Loss: 0.6932\n",
            "Epoch 7, Val Loss: 0.7183\n",
            "Epoch 8, Val Loss: 0.6993\n",
            "Epoch 9, Val Loss: 0.6934\n",
            "Epoch 10, Val Loss: 0.6934\n",
            "Epoch 11, Val Loss: 0.6931\n",
            "Epoch 12, Val Loss: 0.6950\n",
            "Epoch 13, Val Loss: 0.6932\n",
            "Epoch 14, Val Loss: 0.6980\n",
            "Epoch 15, Val Loss: 0.6937\n",
            "Epoch 16, Val Loss: 0.7238\n",
            "Epoch 17, Val Loss: 0.6932\n",
            "Epoch 18, Val Loss: 0.6935\n",
            "Epoch 19, Val Loss: 0.6932\n",
            "Epoch 20, Val Loss: 0.6932\n"
          ]
        },
        {
          "output_type": "display_data",
          "data": {
            "text/plain": [
              "<Figure size 640x480 with 1 Axes>"
            ],
            "image/png": "[encoded data removed]"
          },
          "metadata": {}
        }
      ]
    },
    {
      "cell_type": "markdown",
      "source": [
        "### Versão Tensorflow:"
      ],
      "metadata": {
        "id": "rq-3rQJUceUp"
      }
    },
    {
      "cell_type": "code",
      "execution_count": 19,
      "metadata": {
        "colab": {
          "base_uri": "https://localhost:8080/"
        },
        "id": "DVsOzYpa-Plb",
        "outputId": "614cfafd-fe82-4141-e799-6866904f93b2"
      },
      "outputs": [
        {
          "output_type": "stream",
          "name": "stdout",
          "text": [
            "Epoch 1/20\n",
            "\u001b[1m375/375\u001b[0m \u001b[32m━━━━━━━━━━━━━━━━━━━━\u001b[0m\u001b[37m\u001b[0m \u001b[1m4s\u001b[0m 7ms/step - accuracy: 0.8304 - loss: 0.6251 - val_accuracy: 0.9421 - val_loss: 0.1950\n",
            "Epoch 2/20\n",
            "\u001b[1m375/375\u001b[0m \u001b[32m━━━━━━━━━━━━━━━━━━━━\u001b[0m\u001b[37m\u001b[0m \u001b[1m4s\u001b[0m 5ms/step - accuracy: 0.9450 - loss: 0.1840 - val_accuracy: 0.9572 - val_loss: 0.1413\n",
            "Epoch 3/20\n",
            "\u001b[1m375/375\u001b[0m \u001b[32m━━━━━━━━━━━━━━━━━━━━\u001b[0m\u001b[37m\u001b[0m \u001b[1m2s\u001b[0m 5ms/step - accuracy: 0.9659 - loss: 0.1172 - val_accuracy: 0.9660 - val_loss: 0.1113\n",
            "Epoch 4/20\n",
            "\u001b[1m375/375\u001b[0m \u001b[32m━━━━━━━━━━━━━━━━━━━━\u001b[0m\u001b[37m\u001b[0m \u001b[1m2s\u001b[0m 5ms/step - accuracy: 0.9739 - loss: 0.0914 - val_accuracy: 0.9689 - val_loss: 0.1021\n",
            "Epoch 5/20\n",
            "\u001b[1m375/375\u001b[0m \u001b[32m━━━━━━━━━━━━━━━━━━━━\u001b[0m\u001b[37m\u001b[0m \u001b[1m2s\u001b[0m 5ms/step - accuracy: 0.9796 - loss: 0.0706 - val_accuracy: 0.9704 - val_loss: 0.0996\n",
            "Epoch 6/20\n",
            "\u001b[1m375/375\u001b[0m \u001b[32m━━━━━━━━━━━━━━━━━━━━\u001b[0m\u001b[37m\u001b[0m \u001b[1m3s\u001b[0m 8ms/step - accuracy: 0.9821 - loss: 0.0592 - val_accuracy: 0.9743 - val_loss: 0.0906\n",
            "Epoch 7/20\n",
            "\u001b[1m375/375\u001b[0m \u001b[32m━━━━━━━━━━━━━━━━━━━━\u001b[0m\u001b[37m\u001b[0m \u001b[1m4s\u001b[0m 5ms/step - accuracy: 0.9853 - loss: 0.0478 - val_accuracy: 0.9739 - val_loss: 0.0912\n",
            "Epoch 8/20\n",
            "\u001b[1m375/375\u001b[0m \u001b[32m━━━━━━━━━━━━━━━━━━━━\u001b[0m\u001b[37m\u001b[0m \u001b[1m2s\u001b[0m 5ms/step - accuracy: 0.9882 - loss: 0.0389 - val_accuracy: 0.9753 - val_loss: 0.0922\n",
            "Epoch 9/20\n",
            "\u001b[1m375/375\u001b[0m \u001b[32m━━━━━━━━━━━━━━━━━━━━\u001b[0m\u001b[37m\u001b[0m \u001b[1m2s\u001b[0m 5ms/step - accuracy: 0.9892 - loss: 0.0334 - val_accuracy: 0.9751 - val_loss: 0.0905\n",
            "Epoch 10/20\n",
            "\u001b[1m375/375\u001b[0m \u001b[32m━━━━━━━━━━━━━━━━━━━━\u001b[0m\u001b[37m\u001b[0m \u001b[1m2s\u001b[0m 5ms/step - accuracy: 0.9920 - loss: 0.0276 - val_accuracy: 0.9740 - val_loss: 0.0945\n",
            "Epoch 11/20\n",
            "\u001b[1m375/375\u001b[0m \u001b[32m━━━━━━━━━━━━━━━━━━━━\u001b[0m\u001b[37m\u001b[0m \u001b[1m3s\u001b[0m 8ms/step - accuracy: 0.9932 - loss: 0.0232 - val_accuracy: 0.9741 - val_loss: 0.1045\n",
            "Epoch 12/20\n",
            "\u001b[1m375/375\u001b[0m \u001b[32m━━━━━━━━━━━━━━━━━━━━\u001b[0m\u001b[37m\u001b[0m \u001b[1m2s\u001b[0m 5ms/step - accuracy: 0.9943 - loss: 0.0183 - val_accuracy: 0.9743 - val_loss: 0.1041\n",
            "Epoch 13/20\n",
            "\u001b[1m375/375\u001b[0m \u001b[32m━━━━━━━━━━━━━━━━━━━━\u001b[0m\u001b[37m\u001b[0m \u001b[1m3s\u001b[0m 5ms/step - accuracy: 0.9959 - loss: 0.0152 - val_accuracy: 0.9760 - val_loss: 0.1059\n",
            "Epoch 14/20\n",
            "\u001b[1m375/375\u001b[0m \u001b[32m━━━━━━━━━━━━━━━━━━━━\u001b[0m\u001b[37m\u001b[0m \u001b[1m2s\u001b[0m 5ms/step - accuracy: 0.9962 - loss: 0.0140 - val_accuracy: 0.9752 - val_loss: 0.1112\n",
            "Epoch 15/20\n",
            "\u001b[1m375/375\u001b[0m \u001b[32m━━━━━━━━━━━━━━━━━━━━\u001b[0m\u001b[37m\u001b[0m \u001b[1m2s\u001b[0m 5ms/step - accuracy: 0.9966 - loss: 0.0112 - val_accuracy: 0.9777 - val_loss: 0.1062\n",
            "Epoch 16/20\n",
            "\u001b[1m375/375\u001b[0m \u001b[32m━━━━━━━━━━━━━━━━━━━━\u001b[0m\u001b[37m\u001b[0m \u001b[1m3s\u001b[0m 7ms/step - accuracy: 0.9973 - loss: 0.0098 - val_accuracy: 0.9757 - val_loss: 0.1150\n",
            "Epoch 17/20\n",
            "\u001b[1m375/375\u001b[0m \u001b[32m━━━━━━━━━━━━━━━━━━━━\u001b[0m\u001b[37m\u001b[0m \u001b[1m4s\u001b[0m 5ms/step - accuracy: 0.9980 - loss: 0.0077 - val_accuracy: 0.9741 - val_loss: 0.1205\n",
            "Epoch 18/20\n",
            "\u001b[1m375/375\u001b[0m \u001b[32m━━━━━━━━━━━━━━━━━━━━\u001b[0m\u001b[37m\u001b[0m \u001b[1m2s\u001b[0m 5ms/step - accuracy: 0.9980 - loss: 0.0063 - val_accuracy: 0.9744 - val_loss: 0.1244\n",
            "Epoch 19/20\n",
            "\u001b[1m375/375\u001b[0m \u001b[32m━━━━━━━━━━━━━━━━━━━━\u001b[0m\u001b[37m\u001b[0m \u001b[1m3s\u001b[0m 5ms/step - accuracy: 0.9984 - loss: 0.0057 - val_accuracy: 0.9773 - val_loss: 0.1189\n",
            "Epoch 20/20\n",
            "\u001b[1m375/375\u001b[0m \u001b[32m━━━━━━━━━━━━━━━━━━━━\u001b[0m\u001b[37m\u001b[0m \u001b[1m3s\u001b[0m 6ms/step - accuracy: 0.9987 - loss: 0.0049 - val_accuracy: 0.9759 - val_loss: 0.1253\n"
          ]
        }
      ],
      "source": [
        "model = keras.Sequential([\n",
        "    layers.Dense(96, activation=\"relu\"),\n",
        "    layers.Dense(96, activation=\"relu\"),\n",
        "    layers.Dense(10, activation=\"softmax\"),\n",
        "])\n",
        "model.compile(optimizer=\"rmsprop\",\n",
        "              loss=\"sparse_categorical_crossentropy\",\n",
        "              metrics=[\"accuracy\"])\n",
        "history_large_model = model.fit(\n",
        "    train_images, train_labels,\n",
        "    epochs=20,\n",
        "    batch_size=128,\n",
        "    validation_split=0.2)"
      ]
    },
    {
      "cell_type": "markdown",
      "source": [
        "### Versão PyTorch:"
      ],
      "metadata": {
        "id": "6uKrT6s4dXg0"
      }
    },
    {
      "cell_type": "code",
      "source": [
        "import torch.nn as nn\n",
        "import torch.optim as optim\n",
        "\n",
        "# Definindo o modelo\n",
        "model = nn.Sequential(\n",
        "    nn.Linear(784, 96),  # assumindo imagens 28x28 achatadas\n",
        "    nn.ReLU(),\n",
        "    nn.Linear(96, 96),\n",
        "    nn.ReLU(),\n",
        "    nn.Linear(96, 10)  # sem Softmax aqui\n",
        ")\n",
        "\n",
        "# Otimizador e função de perda\n",
        "optimizer = optim.RMSprop(model.parameters(), lr=0.001)\n",
        "criterion = nn.CrossEntropyLoss()\n",
        "\n",
        "# O treinamento (fit) deve ser feito manualmente com loops em PyTorch\n",
        "# Aqui só estamos traduzindo o modelo e a configuração"
      ],
      "metadata": {
        "id": "YN0IY1TOdd_9"
      },
      "execution_count": 20,
      "outputs": []
    },
    {
      "cell_type": "markdown",
      "metadata": {
        "id": "A7qMlS_S-Plc"
      },
      "source": [
        "## Improving generalization"
      ]
    },
    {
      "cell_type": "markdown",
      "metadata": {
        "id": "7m3ouvsJ-Plc"
      },
      "source": [
        "### Dataset curation"
      ]
    },
    {
      "cell_type": "markdown",
      "metadata": {
        "id": "6HebRy38-Plc"
      },
      "source": [
        "### Feature engineering"
      ]
    },
    {
      "cell_type": "markdown",
      "metadata": {
        "id": "p8dyYLiB-Plc"
      },
      "source": [
        "### Using early stopping"
      ]
    },
    {
      "cell_type": "markdown",
      "metadata": {
        "id": "yGgBY4i3-Plc"
      },
      "source": [
        "### Regularizing your model"
      ]
    },
    {
      "cell_type": "markdown",
      "metadata": {
        "id": "gzdEUp5V-Plc"
      },
      "source": [
        "#### Reducing the network's size"
      ]
    },
    {
      "cell_type": "markdown",
      "metadata": {
        "id": "2ie9_DfE-Plc"
      },
      "source": [
        "**Original model**"
      ]
    },
    {
      "cell_type": "markdown",
      "source": [
        "### Versão Tensorflow:"
      ],
      "metadata": {
        "id": "lWTxZzm1eBn7"
      }
    },
    {
      "cell_type": "code",
      "execution_count": 21,
      "metadata": {
        "colab": {
          "base_uri": "https://localhost:8080/"
        },
        "id": "GFBRi1lz-Plc",
        "outputId": "c0d36a8e-041e-4cd0-f02f-b95ec8c55c51"
      },
      "outputs": [
        {
          "output_type": "stream",
          "name": "stdout",
          "text": [
            "Downloading data from https://storage.googleapis.com/tensorflow/tf-keras-datasets/imdb.npz\n",
            "\u001b[1m17464789/17464789\u001b[0m \u001b[32m━━━━━━━━━━━━━━━━━━━━\u001b[0m\u001b[37m\u001b[0m \u001b[1m0s\u001b[0m 0us/step\n",
            "Epoch 1/20\n",
            "\u001b[1m30/30\u001b[0m \u001b[32m━━━━━━━━━━━━━━━━━━━━\u001b[0m\u001b[37m\u001b[0m \u001b[1m4s\u001b[0m 99ms/step - accuracy: 0.6698 - loss: 0.6149 - val_accuracy: 0.8494 - val_loss: 0.4268\n",
            "Epoch 2/20\n",
            "\u001b[1m30/30\u001b[0m \u001b[32m━━━━━━━━━━━━━━━━━━━━\u001b[0m\u001b[37m\u001b[0m \u001b[1m3s\u001b[0m 42ms/step - accuracy: 0.8855 - loss: 0.3614 - val_accuracy: 0.8803 - val_loss: 0.3266\n",
            "Epoch 3/20\n",
            "\u001b[1m30/30\u001b[0m \u001b[32m━━━━━━━━━━━━━━━━━━━━\u001b[0m\u001b[37m\u001b[0m \u001b[1m3s\u001b[0m 53ms/step - accuracy: 0.9211 - loss: 0.2587 - val_accuracy: 0.8724 - val_loss: 0.3158\n",
            "Epoch 4/20\n",
            "\u001b[1m30/30\u001b[0m \u001b[32m━━━━━━━━━━━━━━━━━━━━\u001b[0m\u001b[37m\u001b[0m \u001b[1m3s\u001b[0m 77ms/step - accuracy: 0.9326 - loss: 0.2070 - val_accuracy: 0.8917 - val_loss: 0.2763\n",
            "Epoch 5/20\n",
            "\u001b[1m30/30\u001b[0m \u001b[32m━━━━━━━━━━━━━━━━━━━━\u001b[0m\u001b[37m\u001b[0m \u001b[1m1s\u001b[0m 43ms/step - accuracy: 0.9442 - loss: 0.1738 - val_accuracy: 0.8851 - val_loss: 0.2874\n",
            "Epoch 6/20\n",
            "\u001b[1m30/30\u001b[0m \u001b[32m━━━━━━━━━━━━━━━━━━━━\u001b[0m\u001b[37m\u001b[0m \u001b[1m1s\u001b[0m 43ms/step - accuracy: 0.9545 - loss: 0.1448 - val_accuracy: 0.8863 - val_loss: 0.2886\n",
            "Epoch 7/20\n",
            "\u001b[1m30/30\u001b[0m \u001b[32m━━━━━━━━━━━━━━━━━━━━\u001b[0m\u001b[37m\u001b[0m \u001b[1m2s\u001b[0m 35ms/step - accuracy: 0.9634 - loss: 0.1196 - val_accuracy: 0.8805 - val_loss: 0.3126\n",
            "Epoch 8/20\n",
            "\u001b[1m30/30\u001b[0m \u001b[32m━━━━━━━━━━━━━━━━━━━━\u001b[0m\u001b[37m\u001b[0m \u001b[1m1s\u001b[0m 43ms/step - accuracy: 0.9723 - loss: 0.1012 - val_accuracy: 0.8810 - val_loss: 0.3190\n",
            "Epoch 9/20\n",
            "\u001b[1m30/30\u001b[0m \u001b[32m━━━━━━━━━━━━━━━━━━━━\u001b[0m\u001b[37m\u001b[0m \u001b[1m3s\u001b[0m 42ms/step - accuracy: 0.9743 - loss: 0.0892 - val_accuracy: 0.8792 - val_loss: 0.3341\n",
            "Epoch 10/20\n",
            "\u001b[1m30/30\u001b[0m \u001b[32m━━━━━━━━━━━━━━━━━━━━\u001b[0m\u001b[37m\u001b[0m \u001b[1m3s\u001b[0m 62ms/step - accuracy: 0.9797 - loss: 0.0810 - val_accuracy: 0.8808 - val_loss: 0.3418\n",
            "Epoch 11/20\n",
            "\u001b[1m30/30\u001b[0m \u001b[32m━━━━━━━━━━━━━━━━━━━━\u001b[0m\u001b[37m\u001b[0m \u001b[1m2s\u001b[0m 48ms/step - accuracy: 0.9851 - loss: 0.0684 - val_accuracy: 0.8757 - val_loss: 0.3720\n",
            "Epoch 12/20\n",
            "\u001b[1m30/30\u001b[0m \u001b[32m━━━━━━━━━━━━━━━━━━━━\u001b[0m\u001b[37m\u001b[0m \u001b[1m3s\u001b[0m 53ms/step - accuracy: 0.9861 - loss: 0.0575 - val_accuracy: 0.8756 - val_loss: 0.3847\n",
            "Epoch 13/20\n",
            "\u001b[1m30/30\u001b[0m \u001b[32m━━━━━━━━━━━━━━━━━━━━\u001b[0m\u001b[37m\u001b[0m \u001b[1m2s\u001b[0m 42ms/step - accuracy: 0.9899 - loss: 0.0501 - val_accuracy: 0.8746 - val_loss: 0.4025\n",
            "Epoch 14/20\n",
            "\u001b[1m30/30\u001b[0m \u001b[32m━━━━━━━━━━━━━━━━━━━━\u001b[0m\u001b[37m\u001b[0m \u001b[1m2s\u001b[0m 39ms/step - accuracy: 0.9911 - loss: 0.0432 - val_accuracy: 0.8750 - val_loss: 0.4203\n",
            "Epoch 15/20\n",
            "\u001b[1m30/30\u001b[0m \u001b[32m━━━━━━━━━━━━━━━━━━━━\u001b[0m\u001b[37m\u001b[0m \u001b[1m2s\u001b[0m 51ms/step - accuracy: 0.9917 - loss: 0.0398 - val_accuracy: 0.8685 - val_loss: 0.4640\n",
            "Epoch 16/20\n",
            "\u001b[1m30/30\u001b[0m \u001b[32m━━━━━━━━━━━━━━━━━━━━\u001b[0m\u001b[37m\u001b[0m \u001b[1m3s\u001b[0m 65ms/step - accuracy: 0.9937 - loss: 0.0324 - val_accuracy: 0.8739 - val_loss: 0.4644\n",
            "Epoch 17/20\n",
            "\u001b[1m30/30\u001b[0m \u001b[32m━━━━━━━━━━━━━━━━━━━━\u001b[0m\u001b[37m\u001b[0m \u001b[1m2s\u001b[0m 41ms/step - accuracy: 0.9961 - loss: 0.0258 - val_accuracy: 0.8719 - val_loss: 0.4835\n",
            "Epoch 18/20\n",
            "\u001b[1m30/30\u001b[0m \u001b[32m━━━━━━━━━━━━━━━━━━━━\u001b[0m\u001b[37m\u001b[0m \u001b[1m1s\u001b[0m 43ms/step - accuracy: 0.9976 - loss: 0.0203 - val_accuracy: 0.8688 - val_loss: 0.5238\n",
            "Epoch 19/20\n",
            "\u001b[1m30/30\u001b[0m \u001b[32m━━━━━━━━━━━━━━━━━━━━\u001b[0m\u001b[37m\u001b[0m \u001b[1m3s\u001b[0m 50ms/step - accuracy: 0.9986 - loss: 0.0173 - val_accuracy: 0.8646 - val_loss: 0.5752\n",
            "Epoch 20/20\n",
            "\u001b[1m30/30\u001b[0m \u001b[32m━━━━━━━━━━━━━━━━━━━━\u001b[0m\u001b[37m\u001b[0m \u001b[1m2s\u001b[0m 36ms/step - accuracy: 0.9986 - loss: 0.0157 - val_accuracy: 0.8627 - val_loss: 0.6135\n"
          ]
        }
      ],
      "source": [
        "from tensorflow.keras.datasets import imdb\n",
        "(train_data, train_labels), _ = imdb.load_data(num_words=10000)\n",
        "\n",
        "def vectorize_sequences(sequences, dimension=10000):\n",
        "    results = np.zeros((len(sequences), dimension))\n",
        "    for i, sequence in enumerate(sequences):\n",
        "        results[i, sequence] = 1.\n",
        "    return results\n",
        "train_data = vectorize_sequences(train_data)\n",
        "\n",
        "model = keras.Sequential([\n",
        "    layers.Dense(16, activation=\"relu\"),\n",
        "    layers.Dense(16, activation=\"relu\"),\n",
        "    layers.Dense(1, activation=\"sigmoid\")\n",
        "])\n",
        "model.compile(optimizer=\"rmsprop\",\n",
        "              loss=\"binary_crossentropy\",\n",
        "              metrics=[\"accuracy\"])\n",
        "history_original = model.fit(train_data, train_labels,\n",
        "                             epochs=20, batch_size=512, validation_split=0.4)"
      ]
    },
    {
      "cell_type": "markdown",
      "source": [
        "### Versão PyTorch:"
      ],
      "metadata": {
        "id": "6AApXJD3ehxG"
      }
    },
    {
      "cell_type": "code",
      "source": [
        "import torch\n",
        "import torch.nn as nn\n",
        "import torch.optim as optim\n",
        "import numpy as np\n",
        "from keras.datasets import imdb\n",
        "\n",
        "# Carregar dados\n",
        "(train_data, train_labels), _ = imdb.load_data(num_words=10000)\n",
        "\n",
        "# Vetorização\n",
        "def vectorize_sequences(sequences, dimension=10000):\n",
        "    results = np.zeros((len(sequences), dimension))\n",
        "    for i, sequence in enumerate(sequences):\n",
        "        results[i, sequence] = 1.\n",
        "    return results\n",
        "\n",
        "train_data = vectorize_sequences(train_data)\n",
        "train_labels = np.asarray(train_labels).astype(\"float32\")\n",
        "\n",
        "# Converter para tensores PyTorch\n",
        "train_data = torch.tensor(train_data, dtype=torch.float32)\n",
        "train_labels = torch.tensor(train_labels, dtype=torch.float32)\n",
        "\n",
        "# Definir modelo\n",
        "model = nn.Sequential(\n",
        "    nn.Linear(10000, 16),\n",
        "    nn.ReLU(),\n",
        "    nn.Linear(16, 16),\n",
        "    nn.ReLU(),\n",
        "    nn.Linear(16, 1),\n",
        "    nn.Sigmoid()\n",
        ")\n",
        "\n",
        "# Compilar modelo (definir otimizador e perda)\n",
        "optimizer = optim.RMSprop(model.parameters(), lr=0.001)\n",
        "criterion = nn.BCELoss()  # Binary Crossentropy"
      ],
      "metadata": {
        "id": "xDrP6QyWeqQ0"
      },
      "execution_count": 25,
      "outputs": []
    },
    {
      "cell_type": "markdown",
      "metadata": {
        "id": "Cje0qvN3-Pld"
      },
      "source": [
        "**Version of the model with lower capacity**"
      ]
    },
    {
      "cell_type": "markdown",
      "source": [
        "### Versão Tensorflow:"
      ],
      "metadata": {
        "id": "1Xg5CESTgu0e"
      }
    },
    {
      "cell_type": "code",
      "execution_count": 27,
      "metadata": {
        "colab": {
          "base_uri": "https://localhost:8080/"
        },
        "id": "aezrcqov-Pld",
        "outputId": "886aae02-f816-4f6e-c985-ed6803dd7b74"
      },
      "outputs": [
        {
          "output_type": "stream",
          "name": "stdout",
          "text": [
            "Epoch 1/20\n",
            "\u001b[1m24/24\u001b[0m \u001b[32m━━━━━━━━━━━━━━━━━━━━\u001b[0m\u001b[37m\u001b[0m \u001b[1m3s\u001b[0m 98ms/step - accuracy: 0.4986 - loss: 0.8292 - val_accuracy: 0.5024 - val_loss: 0.6931\n",
            "Epoch 2/20\n",
            "\u001b[1m24/24\u001b[0m \u001b[32m━━━━━━━━━━━━━━━━━━━━\u001b[0m\u001b[37m\u001b[0m \u001b[1m1s\u001b[0m 51ms/step - accuracy: 0.4970 - loss: 0.6932 - val_accuracy: 0.5021 - val_loss: 0.6931\n",
            "Epoch 3/20\n",
            "\u001b[1m24/24\u001b[0m \u001b[32m━━━━━━━━━━━━━━━━━━━━\u001b[0m\u001b[37m\u001b[0m \u001b[1m1s\u001b[0m 43ms/step - accuracy: 0.5030 - loss: 0.6931 - val_accuracy: 0.5021 - val_loss: 0.6931\n",
            "Epoch 4/20\n",
            "\u001b[1m24/24\u001b[0m \u001b[32m━━━━━━━━━━━━━━━━━━━━\u001b[0m\u001b[37m\u001b[0m \u001b[1m2s\u001b[0m 59ms/step - accuracy: 0.5088 - loss: 0.6930 - val_accuracy: 0.5021 - val_loss: 0.6931\n",
            "Epoch 5/20\n",
            "\u001b[1m24/24\u001b[0m \u001b[32m━━━━━━━━━━━━━━━━━━━━\u001b[0m\u001b[37m\u001b[0m \u001b[1m2s\u001b[0m 69ms/step - accuracy: 0.5063 - loss: 0.6931 - val_accuracy: 0.5023 - val_loss: 0.6932\n",
            "Epoch 6/20\n",
            "\u001b[1m24/24\u001b[0m \u001b[32m━━━━━━━━━━━━━━━━━━━━\u001b[0m\u001b[37m\u001b[0m \u001b[1m1s\u001b[0m 43ms/step - accuracy: 0.5080 - loss: 0.6930 - val_accuracy: 0.5024 - val_loss: 0.6932\n",
            "Epoch 7/20\n",
            "\u001b[1m24/24\u001b[0m \u001b[32m━━━━━━━━━━━━━━━━━━━━\u001b[0m\u001b[37m\u001b[0m \u001b[1m1s\u001b[0m 55ms/step - accuracy: 0.5095 - loss: 0.6930 - val_accuracy: 0.5024 - val_loss: 0.6932\n",
            "Epoch 8/20\n",
            "\u001b[1m24/24\u001b[0m \u001b[32m━━━━━━━━━━━━━━━━━━━━\u001b[0m\u001b[37m\u001b[0m \u001b[1m1s\u001b[0m 39ms/step - accuracy: 0.5124 - loss: 0.6929 - val_accuracy: 0.5024 - val_loss: 0.6932\n",
            "Epoch 9/20\n",
            "\u001b[1m24/24\u001b[0m \u001b[32m━━━━━━━━━━━━━━━━━━━━\u001b[0m\u001b[37m\u001b[0m \u001b[1m1s\u001b[0m 43ms/step - accuracy: 0.5097 - loss: 0.6930 - val_accuracy: 0.5024 - val_loss: 0.6932\n",
            "Epoch 10/20\n",
            "\u001b[1m24/24\u001b[0m \u001b[32m━━━━━━━━━━━━━━━━━━━━\u001b[0m\u001b[37m\u001b[0m \u001b[1m1s\u001b[0m 41ms/step - accuracy: 0.5069 - loss: 0.6931 - val_accuracy: 0.5024 - val_loss: 0.6932\n",
            "Epoch 11/20\n",
            "\u001b[1m24/24\u001b[0m \u001b[32m━━━━━━━━━━━━━━━━━━━━\u001b[0m\u001b[37m\u001b[0m \u001b[1m1s\u001b[0m 42ms/step - accuracy: 0.5098 - loss: 0.6930 - val_accuracy: 0.5024 - val_loss: 0.6932\n",
            "Epoch 12/20\n",
            "\u001b[1m24/24\u001b[0m \u001b[32m━━━━━━━━━━━━━━━━━━━━\u001b[0m\u001b[37m\u001b[0m \u001b[1m1s\u001b[0m 42ms/step - accuracy: 0.5042 - loss: 0.6931 - val_accuracy: 0.5024 - val_loss: 0.6932\n",
            "Epoch 13/20\n",
            "\u001b[1m24/24\u001b[0m \u001b[32m━━━━━━━━━━━━━━━━━━━━\u001b[0m\u001b[37m\u001b[0m \u001b[1m1s\u001b[0m 38ms/step - accuracy: 0.5093 - loss: 0.6930 - val_accuracy: 0.5024 - val_loss: 0.6932\n",
            "Epoch 14/20\n",
            "\u001b[1m24/24\u001b[0m \u001b[32m━━━━━━━━━━━━━━━━━━━━\u001b[0m\u001b[37m\u001b[0m \u001b[1m2s\u001b[0m 55ms/step - accuracy: 0.5066 - loss: 0.6931 - val_accuracy: 0.5024 - val_loss: 0.6932\n",
            "Epoch 15/20\n",
            "\u001b[1m24/24\u001b[0m \u001b[32m━━━━━━━━━━━━━━━━━━━━\u001b[0m\u001b[37m\u001b[0m \u001b[1m1s\u001b[0m 59ms/step - accuracy: 0.5029 - loss: 0.6932 - val_accuracy: 0.5024 - val_loss: 0.6932\n",
            "Epoch 16/20\n",
            "\u001b[1m24/24\u001b[0m \u001b[32m━━━━━━━━━━━━━━━━━━━━\u001b[0m\u001b[37m\u001b[0m \u001b[1m2s\u001b[0m 40ms/step - accuracy: 0.5073 - loss: 0.6930 - val_accuracy: 0.5024 - val_loss: 0.6932\n",
            "Epoch 17/20\n",
            "\u001b[1m24/24\u001b[0m \u001b[32m━━━━━━━━━━━━━━━━━━━━\u001b[0m\u001b[37m\u001b[0m \u001b[1m1s\u001b[0m 40ms/step - accuracy: 0.5075 - loss: 0.6930 - val_accuracy: 0.5024 - val_loss: 0.6932\n",
            "Epoch 18/20\n",
            "\u001b[1m24/24\u001b[0m \u001b[32m━━━━━━━━━━━━━━━━━━━━\u001b[0m\u001b[37m\u001b[0m \u001b[1m1s\u001b[0m 40ms/step - accuracy: 0.5120 - loss: 0.6929 - val_accuracy: 0.5024 - val_loss: 0.6932\n",
            "Epoch 19/20\n",
            "\u001b[1m24/24\u001b[0m \u001b[32m━━━━━━━━━━━━━━━━━━━━\u001b[0m\u001b[37m\u001b[0m \u001b[1m1s\u001b[0m 42ms/step - accuracy: 0.5117 - loss: 0.6929 - val_accuracy: 0.5024 - val_loss: 0.6932\n",
            "Epoch 20/20\n",
            "\u001b[1m24/24\u001b[0m \u001b[32m━━━━━━━━━━━━━━━━━━━━\u001b[0m\u001b[37m\u001b[0m \u001b[1m1s\u001b[0m 40ms/step - accuracy: 0.5042 - loss: 0.6931 - val_accuracy: 0.5024 - val_loss: 0.6932\n"
          ]
        }
      ],
      "source": [
        "model = keras.Sequential([\n",
        "    layers.Dense(4, activation=\"relu\"),\n",
        "    layers.Dense(4, activation=\"relu\"),\n",
        "    layers.Dense(1, activation=\"sigmoid\")\n",
        "])\n",
        "model.compile(optimizer=\"rmsprop\",\n",
        "              loss=\"binary_crossentropy\",\n",
        "              metrics=[\"accuracy\"])\n",
        "history_smaller_model = model.fit(\n",
        "    train_data, train_labels,\n",
        "    epochs=20, batch_size=512, validation_split=0.4)"
      ]
    },
    {
      "cell_type": "markdown",
      "source": [
        "### Versão PyTorch:"
      ],
      "metadata": {
        "id": "F3OALssog5dO"
      }
    },
    {
      "cell_type": "code",
      "source": [
        "import torch\n",
        "import torch.nn as nn\n",
        "import torch.optim as optim\n",
        "from torch.utils.data import TensorDataset, DataLoader\n",
        "\n",
        "# Convertendo os dados\n",
        "train_data_tensor = torch.tensor(train_data, dtype=torch.float32)\n",
        "train_labels_tensor = torch.tensor(train_labels, dtype=torch.float32)\n",
        "\n",
        "# Dividindo dados com validation_split=0.4\n",
        "split = int(len(train_data_tensor) * 0.6)\n",
        "train_inputs = train_data_tensor[:split]\n",
        "train_targets = train_labels_tensor[:split]\n",
        "val_inputs = train_data_tensor[split:]\n",
        "val_targets = train_labels_tensor[split:]\n",
        "\n",
        "# DataLoaders\n",
        "train_loader = DataLoader(TensorDataset(train_inputs, train_targets), batch_size=512, shuffle=True)\n",
        "val_loader = DataLoader(TensorDataset(val_inputs, val_targets), batch_size=512)\n",
        "\n",
        "# Modelo\n",
        "model = nn.Sequential(\n",
        "    nn.Linear(train_data.shape[1], 4),\n",
        "    nn.ReLU(),\n",
        "    nn.Linear(4, 4),\n",
        "    nn.ReLU(),\n",
        "    nn.Linear(4, 1),\n",
        "    nn.Sigmoid()\n",
        ")\n",
        "\n",
        "# Otimizador e função de perda\n",
        "optimizer = optim.RMSprop(model.parameters(), lr=0.001)\n",
        "criterion = nn.BCELoss()\n",
        "\n",
        "# Treinamento simples (sem acurácia nem histórico completo)\n",
        "for epoch in range(20):\n",
        "    model.train()\n",
        "    for inputs, labels in train_loader:\n",
        "        outputs = model(inputs).squeeze()\n",
        "        loss = criterion(outputs, labels)\n",
        "        optimizer.zero_grad()\n",
        "        loss.backward()\n",
        "        optimizer.step()"
      ],
      "metadata": {
        "id": "0BP6JdNAg7OV"
      },
      "execution_count": 28,
      "outputs": []
    },
    {
      "cell_type": "markdown",
      "metadata": {
        "id": "ITKveR6v-Pld"
      },
      "source": [
        "**Version of the model with higher capacity**"
      ]
    },
    {
      "cell_type": "markdown",
      "source": [
        "### Versão Tensorflow:"
      ],
      "metadata": {
        "id": "BFv5ZaWRhx56"
      }
    },
    {
      "cell_type": "code",
      "execution_count": 29,
      "metadata": {
        "colab": {
          "base_uri": "https://localhost:8080/"
        },
        "id": "UJt1QzZQ-Pld",
        "outputId": "62e3341d-bcdc-4020-8ef3-5b199e0836e4"
      },
      "outputs": [
        {
          "output_type": "stream",
          "name": "stdout",
          "text": [
            "Epoch 1/20\n",
            "\u001b[1m24/24\u001b[0m \u001b[32m━━━━━━━━━━━━━━━━━━━━\u001b[0m\u001b[37m\u001b[0m \u001b[1m12s\u001b[0m 428ms/step - accuracy: 0.5090 - loss: 8.3148 - val_accuracy: 0.5024 - val_loss: 0.7224\n",
            "Epoch 2/20\n",
            "\u001b[1m24/24\u001b[0m \u001b[32m━━━━━━━━━━━━━━━━━━━━\u001b[0m\u001b[37m\u001b[0m \u001b[1m9s\u001b[0m 387ms/step - accuracy: 0.5111 - loss: 0.7285 - val_accuracy: 0.5024 - val_loss: 0.6947\n",
            "Epoch 3/20\n",
            "\u001b[1m24/24\u001b[0m \u001b[32m━━━━━━━━━━━━━━━━━━━━\u001b[0m\u001b[37m\u001b[0m \u001b[1m9s\u001b[0m 347ms/step - accuracy: 0.4892 - loss: 0.6966 - val_accuracy: 0.4976 - val_loss: 0.6980\n",
            "Epoch 4/20\n",
            "\u001b[1m24/24\u001b[0m \u001b[32m━━━━━━━━━━━━━━━━━━━━\u001b[0m\u001b[37m\u001b[0m \u001b[1m9s\u001b[0m 296ms/step - accuracy: 0.5011 - loss: 0.6956 - val_accuracy: 0.5026 - val_loss: 0.6931\n",
            "Epoch 5/20\n",
            "\u001b[1m24/24\u001b[0m \u001b[32m━━━━━━━━━━━━━━━━━━━━\u001b[0m\u001b[37m\u001b[0m \u001b[1m13s\u001b[0m 415ms/step - accuracy: 0.5060 - loss: 0.6931 - val_accuracy: 0.5025 - val_loss: 0.6931\n",
            "Epoch 6/20\n",
            "\u001b[1m24/24\u001b[0m \u001b[32m━━━━━━━━━━━━━━━━━━━━\u001b[0m\u001b[37m\u001b[0m \u001b[1m8s\u001b[0m 345ms/step - accuracy: 0.5125 - loss: 0.6930 - val_accuracy: 0.5024 - val_loss: 0.6934\n",
            "Epoch 7/20\n",
            "\u001b[1m24/24\u001b[0m \u001b[32m━━━━━━━━━━━━━━━━━━━━\u001b[0m\u001b[37m\u001b[0m \u001b[1m7s\u001b[0m 311ms/step - accuracy: 0.5167 - loss: 0.6937 - val_accuracy: 0.5020 - val_loss: 0.6931\n",
            "Epoch 8/20\n",
            "\u001b[1m24/24\u001b[0m \u001b[32m━━━━━━━━━━━━━━━━━━━━\u001b[0m\u001b[37m\u001b[0m \u001b[1m10s\u001b[0m 290ms/step - accuracy: 0.5057 - loss: 0.6932 - val_accuracy: 0.5025 - val_loss: 0.6931\n",
            "Epoch 9/20\n",
            "\u001b[1m24/24\u001b[0m \u001b[32m━━━━━━━━━━━━━━━━━━━━\u001b[0m\u001b[37m\u001b[0m \u001b[1m9s\u001b[0m 384ms/step - accuracy: 0.5084 - loss: 0.6931 - val_accuracy: 0.5024 - val_loss: 0.6932\n",
            "Epoch 10/20\n",
            "\u001b[1m24/24\u001b[0m \u001b[32m━━━━━━━━━━━━━━━━━━━━\u001b[0m\u001b[37m\u001b[0m \u001b[1m11s\u001b[0m 447ms/step - accuracy: 0.5119 - loss: 0.6929 - val_accuracy: 0.5024 - val_loss: 0.6932\n",
            "Epoch 11/20\n",
            "\u001b[1m24/24\u001b[0m \u001b[32m━━━━━━━━━━━━━━━━━━━━\u001b[0m\u001b[37m\u001b[0m \u001b[1m7s\u001b[0m 312ms/step - accuracy: 0.5027 - loss: 0.6932 - val_accuracy: 0.5024 - val_loss: 0.6932\n",
            "Epoch 12/20\n",
            "\u001b[1m24/24\u001b[0m \u001b[32m━━━━━━━━━━━━━━━━━━━━\u001b[0m\u001b[37m\u001b[0m \u001b[1m11s\u001b[0m 338ms/step - accuracy: 0.5068 - loss: 0.6931 - val_accuracy: 0.5024 - val_loss: 0.6932\n",
            "Epoch 13/20\n",
            "\u001b[1m24/24\u001b[0m \u001b[32m━━━━━━━━━━━━━━━━━━━━\u001b[0m\u001b[37m\u001b[0m \u001b[1m9s\u001b[0m 298ms/step - accuracy: 0.5080 - loss: 0.6931 - val_accuracy: 0.5024 - val_loss: 0.6932\n",
            "Epoch 14/20\n",
            "\u001b[1m24/24\u001b[0m \u001b[32m━━━━━━━━━━━━━━━━━━━━\u001b[0m\u001b[37m\u001b[0m \u001b[1m8s\u001b[0m 355ms/step - accuracy: 0.5078 - loss: 0.6930 - val_accuracy: 0.5024 - val_loss: 0.6932\n",
            "Epoch 15/20\n",
            "\u001b[1m24/24\u001b[0m \u001b[32m━━━━━━━━━━━━━━━━━━━━\u001b[0m\u001b[37m\u001b[0m \u001b[1m10s\u001b[0m 335ms/step - accuracy: 0.4969 - loss: 0.6934 - val_accuracy: 0.5024 - val_loss: 0.6932\n",
            "Epoch 16/20\n",
            "\u001b[1m24/24\u001b[0m \u001b[32m━━━━━━━━━━━━━━━━━━━━\u001b[0m\u001b[37m\u001b[0m \u001b[1m9s\u001b[0m 293ms/step - accuracy: 0.5013 - loss: 0.6932 - val_accuracy: 0.5024 - val_loss: 0.6932\n",
            "Epoch 17/20\n",
            "\u001b[1m24/24\u001b[0m \u001b[32m━━━━━━━━━━━━━━━━━━━━\u001b[0m\u001b[37m\u001b[0m \u001b[1m8s\u001b[0m 344ms/step - accuracy: 0.5139 - loss: 0.6929 - val_accuracy: 0.5025 - val_loss: 0.6932\n",
            "Epoch 18/20\n",
            "\u001b[1m24/24\u001b[0m \u001b[32m━━━━━━━━━━━━━━━━━━━━\u001b[0m\u001b[37m\u001b[0m \u001b[1m11s\u001b[0m 369ms/step - accuracy: 0.5064 - loss: 0.6931 - val_accuracy: 0.5024 - val_loss: 0.6932\n",
            "Epoch 19/20\n",
            "\u001b[1m24/24\u001b[0m \u001b[32m━━━━━━━━━━━━━━━━━━━━\u001b[0m\u001b[37m\u001b[0m \u001b[1m8s\u001b[0m 291ms/step - accuracy: 0.5127 - loss: 0.6929 - val_accuracy: 0.5025 - val_loss: 0.6932\n",
            "Epoch 20/20\n",
            "\u001b[1m24/24\u001b[0m \u001b[32m━━━━━━━━━━━━━━━━━━━━\u001b[0m\u001b[37m\u001b[0m \u001b[1m10s\u001b[0m 292ms/step - accuracy: 0.5042 - loss: 0.6931 - val_accuracy: 0.5024 - val_loss: 0.6932\n"
          ]
        }
      ],
      "source": [
        "model = keras.Sequential([\n",
        "    layers.Dense(512, activation=\"relu\"),\n",
        "    layers.Dense(512, activation=\"relu\"),\n",
        "    layers.Dense(1, activation=\"sigmoid\")\n",
        "])\n",
        "model.compile(optimizer=\"rmsprop\",\n",
        "              loss=\"binary_crossentropy\",\n",
        "              metrics=[\"accuracy\"])\n",
        "history_larger_model = model.fit(\n",
        "    train_data, train_labels,\n",
        "    epochs=20, batch_size=512, validation_split=0.4)"
      ]
    },
    {
      "cell_type": "markdown",
      "source": [
        "### Versão PyTorch:"
      ],
      "metadata": {
        "id": "yQ_iLuMyh4m4"
      }
    },
    {
      "cell_type": "code",
      "source": [
        "import torch\n",
        "import torch.nn as nn\n",
        "import torch.optim as optim\n",
        "from torch.utils.data import TensorDataset, DataLoader\n",
        "\n",
        "# Convertendo os dados para tensores\n",
        "train_data_tensor = torch.tensor(train_data, dtype=torch.float32)\n",
        "train_labels_tensor = torch.tensor(train_labels, dtype=torch.float32)\n",
        "\n",
        "# Separando em treino e validação (validation_split=0.4)\n",
        "split = int(len(train_data_tensor) * 0.6)\n",
        "train_inputs = train_data_tensor[:split]\n",
        "train_targets = train_labels_tensor[:split]\n",
        "val_inputs = train_data_tensor[split:]\n",
        "val_targets = train_labels_tensor[split:]\n",
        "\n",
        "# DataLoaders\n",
        "train_loader = DataLoader(TensorDataset(train_inputs, train_targets), batch_size=512, shuffle=True)\n",
        "val_loader = DataLoader(TensorDataset(val_inputs, val_targets), batch_size=512)\n",
        "\n",
        "# Modelo\n",
        "model = nn.Sequential(\n",
        "    nn.Linear(train_data.shape[1], 512),\n",
        "    nn.ReLU(),\n",
        "    nn.Linear(512, 512),\n",
        "    nn.ReLU(),\n",
        "    nn.Linear(512, 1),\n",
        "    nn.Sigmoid()\n",
        ")\n",
        "\n",
        "# Otimizador e função de perda\n",
        "optimizer = optim.RMSprop(model.parameters(), lr=0.001)\n",
        "criterion = nn.BCELoss()\n",
        "\n",
        "# Treinamento\n",
        "for epoch in range(20):\n",
        "    model.train()\n",
        "    for inputs, labels in train_loader:\n",
        "        outputs = model(inputs).squeeze()\n",
        "        loss = criterion(outputs, labels)\n",
        "        optimizer.zero_grad()\n",
        "        loss.backward()\n",
        "        optimizer.step()"
      ],
      "metadata": {
        "id": "dpTHZGp7iArM"
      },
      "execution_count": 30,
      "outputs": []
    },
    {
      "cell_type": "markdown",
      "metadata": {
        "id": "29wruEAO-Pld"
      },
      "source": [
        "#### Adding weight regularization"
      ]
    },
    {
      "cell_type": "markdown",
      "metadata": {
        "id": "SABj4Yia-Pld"
      },
      "source": [
        "**Adding L2 weight regularization to the model**"
      ]
    },
    {
      "cell_type": "markdown",
      "source": [
        "### Versão Tensorflow:"
      ],
      "metadata": {
        "id": "I1hHXt0wjZyF"
      }
    },
    {
      "cell_type": "code",
      "execution_count": 31,
      "metadata": {
        "colab": {
          "base_uri": "https://localhost:8080/"
        },
        "id": "wSSPwSg3-Pld",
        "outputId": "e919ba76-2487-47b9-d64f-14a38394b4dc"
      },
      "outputs": [
        {
          "output_type": "stream",
          "name": "stdout",
          "text": [
            "Epoch 1/20\n",
            "\u001b[1m24/24\u001b[0m \u001b[32m━━━━━━━━━━━━━━━━━━━━\u001b[0m\u001b[37m\u001b[0m \u001b[1m3s\u001b[0m 82ms/step - accuracy: 0.4922 - loss: 1.6475 - val_accuracy: 0.4976 - val_loss: 0.7979\n",
            "Epoch 2/20\n",
            "\u001b[1m24/24\u001b[0m \u001b[32m━━━━━━━━━━━━━━━━━━━━\u001b[0m\u001b[37m\u001b[0m \u001b[1m2s\u001b[0m 66ms/step - accuracy: 0.4989 - loss: 0.7916 - val_accuracy: 0.4976 - val_loss: 0.7601\n",
            "Epoch 3/20\n",
            "\u001b[1m24/24\u001b[0m \u001b[32m━━━━━━━━━━━━━━━━━━━━\u001b[0m\u001b[37m\u001b[0m \u001b[1m2s\u001b[0m 46ms/step - accuracy: 0.4966 - loss: 0.7560 - val_accuracy: 0.5024 - val_loss: 0.7446\n",
            "Epoch 4/20\n",
            "\u001b[1m24/24\u001b[0m \u001b[32m━━━━━━━━━━━━━━━━━━━━\u001b[0m\u001b[37m\u001b[0m \u001b[1m1s\u001b[0m 45ms/step - accuracy: 0.5044 - loss: 0.7409 - val_accuracy: 0.5024 - val_loss: 0.7305\n",
            "Epoch 5/20\n",
            "\u001b[1m24/24\u001b[0m \u001b[32m━━━━━━━━━━━━━━━━━━━━\u001b[0m\u001b[37m\u001b[0m \u001b[1m2s\u001b[0m 63ms/step - accuracy: 0.5033 - loss: 0.7275 - val_accuracy: 0.5024 - val_loss: 0.7196\n",
            "Epoch 6/20\n",
            "\u001b[1m24/24\u001b[0m \u001b[32m━━━━━━━━━━━━━━━━━━━━\u001b[0m\u001b[37m\u001b[0m \u001b[1m2s\u001b[0m 79ms/step - accuracy: 0.5069 - loss: 0.7173 - val_accuracy: 0.5024 - val_loss: 0.7121\n",
            "Epoch 7/20\n",
            "\u001b[1m24/24\u001b[0m \u001b[32m━━━━━━━━━━━━━━━━━━━━\u001b[0m\u001b[37m\u001b[0m \u001b[1m2s\u001b[0m 44ms/step - accuracy: 0.5013 - loss: 0.7107 - val_accuracy: 0.5024 - val_loss: 0.7070\n",
            "Epoch 8/20\n",
            "\u001b[1m24/24\u001b[0m \u001b[32m━━━━━━━━━━━━━━━━━━━━\u001b[0m\u001b[37m\u001b[0m \u001b[1m1s\u001b[0m 43ms/step - accuracy: 0.5064 - loss: 0.7059 - val_accuracy: 0.5024 - val_loss: 0.7034\n",
            "Epoch 9/20\n",
            "\u001b[1m24/24\u001b[0m \u001b[32m━━━━━━━━━━━━━━━━━━━━\u001b[0m\u001b[37m\u001b[0m \u001b[1m1s\u001b[0m 45ms/step - accuracy: 0.5041 - loss: 0.7027 - val_accuracy: 0.5024 - val_loss: 0.7008\n",
            "Epoch 10/20\n",
            "\u001b[1m24/24\u001b[0m \u001b[32m━━━━━━━━━━━━━━━━━━━━\u001b[0m\u001b[37m\u001b[0m \u001b[1m1s\u001b[0m 43ms/step - accuracy: 0.5088 - loss: 0.7002 - val_accuracy: 0.5024 - val_loss: 0.6989\n",
            "Epoch 11/20\n",
            "\u001b[1m24/24\u001b[0m \u001b[32m━━━━━━━━━━━━━━━━━━━━\u001b[0m\u001b[37m\u001b[0m \u001b[1m1s\u001b[0m 44ms/step - accuracy: 0.5078 - loss: 0.6984 - val_accuracy: 0.5024 - val_loss: 0.6974\n",
            "Epoch 12/20\n",
            "\u001b[1m24/24\u001b[0m \u001b[32m━━━━━━━━━━━━━━━━━━━━\u001b[0m\u001b[37m\u001b[0m \u001b[1m1s\u001b[0m 44ms/step - accuracy: 0.5063 - loss: 0.6970 - val_accuracy: 0.5024 - val_loss: 0.6963\n",
            "Epoch 13/20\n",
            "\u001b[1m24/24\u001b[0m \u001b[32m━━━━━━━━━━━━━━━━━━━━\u001b[0m\u001b[37m\u001b[0m \u001b[1m1s\u001b[0m 43ms/step - accuracy: 0.5063 - loss: 0.6960 - val_accuracy: 0.5024 - val_loss: 0.6954\n",
            "Epoch 14/20\n",
            "\u001b[1m24/24\u001b[0m \u001b[32m━━━━━━━━━━━━━━━━━━━━\u001b[0m\u001b[37m\u001b[0m \u001b[1m1s\u001b[0m 48ms/step - accuracy: 0.5070 - loss: 0.6951 - val_accuracy: 0.5024 - val_loss: 0.6948\n",
            "Epoch 15/20\n",
            "\u001b[1m24/24\u001b[0m \u001b[32m━━━━━━━━━━━━━━━━━━━━\u001b[0m\u001b[37m\u001b[0m \u001b[1m2s\u001b[0m 74ms/step - accuracy: 0.5051 - loss: 0.6946 - val_accuracy: 0.5024 - val_loss: 0.6943\n",
            "Epoch 16/20\n",
            "\u001b[1m24/24\u001b[0m \u001b[32m━━━━━━━━━━━━━━━━━━━━\u001b[0m\u001b[37m\u001b[0m \u001b[1m1s\u001b[0m 50ms/step - accuracy: 0.5090 - loss: 0.6940 - val_accuracy: 0.5024 - val_loss: 0.6939\n",
            "Epoch 17/20\n",
            "\u001b[1m24/24\u001b[0m \u001b[32m━━━━━━━━━━━━━━━━━━━━\u001b[0m\u001b[37m\u001b[0m \u001b[1m1s\u001b[0m 42ms/step - accuracy: 0.5050 - loss: 0.6938 - val_accuracy: 0.5024 - val_loss: 0.6937\n",
            "Epoch 18/20\n",
            "\u001b[1m24/24\u001b[0m \u001b[32m━━━━━━━━━━━━━━━━━━━━\u001b[0m\u001b[37m\u001b[0m \u001b[1m1s\u001b[0m 45ms/step - accuracy: 0.5104 - loss: 0.6934 - val_accuracy: 0.5024 - val_loss: 0.6935\n",
            "Epoch 19/20\n",
            "\u001b[1m24/24\u001b[0m \u001b[32m━━━━━━━━━━━━━━━━━━━━\u001b[0m\u001b[37m\u001b[0m \u001b[1m1s\u001b[0m 45ms/step - accuracy: 0.5129 - loss: 0.6932 - val_accuracy: 0.5024 - val_loss: 0.6934\n",
            "Epoch 20/20\n",
            "\u001b[1m24/24\u001b[0m \u001b[32m━━━━━━━━━━━━━━━━━━━━\u001b[0m\u001b[37m\u001b[0m \u001b[1m1s\u001b[0m 46ms/step - accuracy: 0.5073 - loss: 0.6932 - val_accuracy: 0.5024 - val_loss: 0.6933\n"
          ]
        }
      ],
      "source": [
        "from tensorflow.keras import regularizers\n",
        "model = keras.Sequential([\n",
        "    layers.Dense(16,\n",
        "                 kernel_regularizer=regularizers.l2(0.002),\n",
        "                 activation=\"relu\"),\n",
        "    layers.Dense(16,\n",
        "                 kernel_regularizer=regularizers.l2(0.002),\n",
        "                 activation=\"relu\"),\n",
        "    layers.Dense(1, activation=\"sigmoid\")\n",
        "])\n",
        "model.compile(optimizer=\"rmsprop\",\n",
        "              loss=\"binary_crossentropy\",\n",
        "              metrics=[\"accuracy\"])\n",
        "history_l2_reg = model.fit(\n",
        "    train_data, train_labels,\n",
        "    epochs=20, batch_size=512, validation_split=0.4)"
      ]
    },
    {
      "cell_type": "markdown",
      "source": [
        "### Versão PyTorch:"
      ],
      "metadata": {
        "id": "wJ0Cy4eikK_j"
      }
    },
    {
      "cell_type": "code",
      "source": [
        "import torch\n",
        "import torch.nn as nn\n",
        "import torch.optim as optim\n",
        "from torch.utils.data import TensorDataset, DataLoader\n",
        "\n",
        "# Convertendo os dados\n",
        "train_data_tensor = torch.tensor(train_data, dtype=torch.float32)\n",
        "train_labels_tensor = torch.tensor(train_labels, dtype=torch.float32)\n",
        "\n",
        "# Separando treino e validação (validation_split = 0.4)\n",
        "split = int(len(train_data_tensor) * 0.6)\n",
        "train_inputs = train_data_tensor[:split]\n",
        "train_targets = train_labels_tensor[:split]\n",
        "val_inputs = train_data_tensor[split:]\n",
        "val_targets = train_labels_tensor[split:]\n",
        "\n",
        "# DataLoaders\n",
        "train_loader = DataLoader(TensorDataset(train_inputs, train_targets), batch_size=512, shuffle=True)\n",
        "val_loader = DataLoader(TensorDataset(val_inputs, val_targets), batch_size=512)\n",
        "\n",
        "# Modelo\n",
        "model = nn.Sequential(\n",
        "    nn.Linear(train_data.shape[1], 16),\n",
        "    nn.ReLU(),\n",
        "    nn.Linear(16, 16),\n",
        "    nn.ReLU(),\n",
        "    nn.Linear(16, 1),\n",
        "    nn.Sigmoid()\n",
        ")\n",
        "\n",
        "# Função de perda\n",
        "criterion = nn.BCELoss()\n",
        "\n",
        "# Otimizador com regularização L2 (weight decay)\n",
        "optimizer = optim.RMSprop(model.parameters(), lr=0.001, weight_decay=0.002)\n",
        "\n",
        "# Treinamento\n",
        "for epoch in range(20):\n",
        "    model.train()\n",
        "    for inputs, labels in train_loader:\n",
        "        outputs = model(inputs).squeeze()\n",
        "        loss = criterion(outputs, labels)\n",
        "        optimizer.zero_grad()\n",
        "        loss.backward()\n",
        "        optimizer.step()\n"
      ],
      "metadata": {
        "id": "lYd_Mg7QkNwn"
      },
      "execution_count": 32,
      "outputs": []
    },
    {
      "cell_type": "markdown",
      "metadata": {
        "id": "YMwq-zqu-Pld"
      },
      "source": [
        "**Different weight regularizers available in Keras**"
      ]
    },
    {
      "cell_type": "markdown",
      "source": [
        "### Versão Tensorflow:"
      ],
      "metadata": {
        "id": "dF0a5tmjlOzo"
      }
    },
    {
      "cell_type": "code",
      "execution_count": 33,
      "metadata": {
        "colab": {
          "base_uri": "https://localhost:8080/"
        },
        "id": "pUQtBnf7-Pld",
        "outputId": "22f00f24-10bf-47b2-f416-379e42c71627"
      },
      "outputs": [
        {
          "output_type": "execute_result",
          "data": {
            "text/plain": [
              "<keras.src.regularizers.regularizers.L1L2 at 0x79c167d92090>"
            ]
          },
          "metadata": {},
          "execution_count": 33
        }
      ],
      "source": [
        "from tensorflow.keras import regularizers\n",
        "regularizers.l1(0.001)\n",
        "regularizers.l1_l2(l1=0.001, l2=0.001)"
      ]
    },
    {
      "cell_type": "markdown",
      "source": [
        "### Versão PyTorch:"
      ],
      "metadata": {
        "id": "w_uI-3yclTCw"
      }
    },
    {
      "cell_type": "code",
      "source": [
        "import torch\n",
        "\n",
        "# Exemplo de cálculo L1\n",
        "def l1_penalty(model, lambda_l1=0.001):\n",
        "    l1_loss = 0.0\n",
        "    for param in model.parameters():\n",
        "        l1_loss += torch.sum(torch.abs(param))\n",
        "    return lambda_l1 * l1_loss\n",
        "\n",
        "# Exemplo de L1 + L2 (L2 com weight_decay no otimizador)\n",
        "def l1_l2_penalty(model, lambda_l1=0.001):\n",
        "    l1_loss = 0.0\n",
        "    for param in model.parameters():\n",
        "        l1_loss += torch.sum(torch.abs(param))\n",
        "    return lambda_l1 * l1_loss\n",
        "\n",
        "# L2 = weight_decay no otimizador\n",
        "optimizer = torch.optim.RMSprop(model.parameters(), lr=0.001, weight_decay=0.001)\n"
      ],
      "metadata": {
        "id": "J48PXSu6lapR"
      },
      "execution_count": 34,
      "outputs": []
    },
    {
      "cell_type": "markdown",
      "metadata": {
        "id": "GVrHf_NQ-Pld"
      },
      "source": [
        "#### Adding dropout"
      ]
    },
    {
      "cell_type": "markdown",
      "metadata": {
        "id": "ik7sevwv-Pld"
      },
      "source": [
        "**Adding dropout to the IMDB model**"
      ]
    },
    {
      "cell_type": "markdown",
      "source": [
        "### Versão Tensorflow:"
      ],
      "metadata": {
        "id": "cDCJFvWGl429"
      }
    },
    {
      "cell_type": "code",
      "execution_count": 35,
      "metadata": {
        "colab": {
          "base_uri": "https://localhost:8080/"
        },
        "id": "mIXi5ovt-Pld",
        "outputId": "b0262f4c-b13e-491f-fca0-814dba8c83b7"
      },
      "outputs": [
        {
          "output_type": "stream",
          "name": "stdout",
          "text": [
            "Epoch 1/20\n",
            "\u001b[1m24/24\u001b[0m \u001b[32m━━━━━━━━━━━━━━━━━━━━\u001b[0m\u001b[37m\u001b[0m \u001b[1m3s\u001b[0m 86ms/step - accuracy: 0.4976 - loss: 1.1529 - val_accuracy: 0.5024 - val_loss: 0.6931\n",
            "Epoch 2/20\n",
            "\u001b[1m24/24\u001b[0m \u001b[32m━━━━━━━━━━━━━━━━━━━━\u001b[0m\u001b[37m\u001b[0m \u001b[1m2s\u001b[0m 68ms/step - accuracy: 0.5106 - loss: 0.6931 - val_accuracy: 0.5024 - val_loss: 0.6931\n",
            "Epoch 3/20\n",
            "\u001b[1m24/24\u001b[0m \u001b[32m━━━━━━━━━━━━━━━━━━━━\u001b[0m\u001b[37m\u001b[0m \u001b[1m2s\u001b[0m 45ms/step - accuracy: 0.5017 - loss: 0.6939 - val_accuracy: 0.5024 - val_loss: 0.6931\n",
            "Epoch 4/20\n",
            "\u001b[1m24/24\u001b[0m \u001b[32m━━━━━━━━━━━━━━━━━━━━\u001b[0m\u001b[37m\u001b[0m \u001b[1m1s\u001b[0m 42ms/step - accuracy: 0.5092 - loss: 0.6930 - val_accuracy: 0.5024 - val_loss: 0.6931\n",
            "Epoch 5/20\n",
            "\u001b[1m24/24\u001b[0m \u001b[32m━━━━━━━━━━━━━━━━━━━━\u001b[0m\u001b[37m\u001b[0m \u001b[1m1s\u001b[0m 42ms/step - accuracy: 0.5078 - loss: 0.6931 - val_accuracy: 0.5024 - val_loss: 0.6931\n",
            "Epoch 6/20\n",
            "\u001b[1m24/24\u001b[0m \u001b[32m━━━━━━━━━━━━━━━━━━━━\u001b[0m\u001b[37m\u001b[0m \u001b[1m2s\u001b[0m 69ms/step - accuracy: 0.5074 - loss: 0.6931 - val_accuracy: 0.5024 - val_loss: 0.6932\n",
            "Epoch 7/20\n",
            "\u001b[1m24/24\u001b[0m \u001b[32m━━━━━━━━━━━━━━━━━━━━\u001b[0m\u001b[37m\u001b[0m \u001b[1m2s\u001b[0m 43ms/step - accuracy: 0.5070 - loss: 0.6931 - val_accuracy: 0.5024 - val_loss: 0.6932\n",
            "Epoch 8/20\n",
            "\u001b[1m24/24\u001b[0m \u001b[32m━━━━━━━━━━━━━━━━━━━━\u001b[0m\u001b[37m\u001b[0m \u001b[1m1s\u001b[0m 45ms/step - accuracy: 0.5147 - loss: 0.6929 - val_accuracy: 0.5024 - val_loss: 0.6932\n",
            "Epoch 9/20\n",
            "\u001b[1m24/24\u001b[0m \u001b[32m━━━━━━━━━━━━━━━━━━━━\u001b[0m\u001b[37m\u001b[0m \u001b[1m1s\u001b[0m 44ms/step - accuracy: 0.5028 - loss: 0.6932 - val_accuracy: 0.5024 - val_loss: 0.6932\n",
            "Epoch 10/20\n",
            "\u001b[1m24/24\u001b[0m \u001b[32m━━━━━━━━━━━━━━━━━━━━\u001b[0m\u001b[37m\u001b[0m \u001b[1m1s\u001b[0m 44ms/step - accuracy: 0.5110 - loss: 0.6930 - val_accuracy: 0.5024 - val_loss: 0.6932\n",
            "Epoch 11/20\n",
            "\u001b[1m24/24\u001b[0m \u001b[32m━━━━━━━━━━━━━━━━━━━━\u001b[0m\u001b[37m\u001b[0m \u001b[1m1s\u001b[0m 42ms/step - accuracy: 0.5076 - loss: 0.6930 - val_accuracy: 0.5024 - val_loss: 0.6932\n",
            "Epoch 12/20\n",
            "\u001b[1m24/24\u001b[0m \u001b[32m━━━━━━━━━━━━━━━━━━━━\u001b[0m\u001b[37m\u001b[0m \u001b[1m1s\u001b[0m 44ms/step - accuracy: 0.5053 - loss: 0.6931 - val_accuracy: 0.5024 - val_loss: 0.6932\n",
            "Epoch 13/20\n",
            "\u001b[1m24/24\u001b[0m \u001b[32m━━━━━━━━━━━━━━━━━━━━\u001b[0m\u001b[37m\u001b[0m \u001b[1m1s\u001b[0m 45ms/step - accuracy: 0.5079 - loss: 0.6930 - val_accuracy: 0.5024 - val_loss: 0.6932\n",
            "Epoch 14/20\n",
            "\u001b[1m24/24\u001b[0m \u001b[32m━━━━━━━━━━━━━━━━━━━━\u001b[0m\u001b[37m\u001b[0m \u001b[1m1s\u001b[0m 41ms/step - accuracy: 0.5059 - loss: 0.6931 - val_accuracy: 0.5024 - val_loss: 0.6932\n",
            "Epoch 15/20\n",
            "\u001b[1m24/24\u001b[0m \u001b[32m━━━━━━━━━━━━━━━━━━━━\u001b[0m\u001b[37m\u001b[0m \u001b[1m2s\u001b[0m 62ms/step - accuracy: 0.5041 - loss: 0.6931 - val_accuracy: 0.5024 - val_loss: 0.6932\n",
            "Epoch 16/20\n",
            "\u001b[1m24/24\u001b[0m \u001b[32m━━━━━━━━━━━━━━━━━━━━\u001b[0m\u001b[37m\u001b[0m \u001b[1m2s\u001b[0m 45ms/step - accuracy: 0.5111 - loss: 0.6929 - val_accuracy: 0.5024 - val_loss: 0.6932\n",
            "Epoch 17/20\n",
            "\u001b[1m24/24\u001b[0m \u001b[32m━━━━━━━━━━━━━━━━━━━━\u001b[0m\u001b[37m\u001b[0m \u001b[1m1s\u001b[0m 42ms/step - accuracy: 0.5032 - loss: 0.6932 - val_accuracy: 0.5024 - val_loss: 0.6932\n",
            "Epoch 18/20\n",
            "\u001b[1m24/24\u001b[0m \u001b[32m━━━━━━━━━━━━━━━━━━━━\u001b[0m\u001b[37m\u001b[0m \u001b[1m1s\u001b[0m 44ms/step - accuracy: 0.5093 - loss: 0.6930 - val_accuracy: 0.5024 - val_loss: 0.6932\n",
            "Epoch 19/20\n",
            "\u001b[1m24/24\u001b[0m \u001b[32m━━━━━━━━━━━━━━━━━━━━\u001b[0m\u001b[37m\u001b[0m \u001b[1m1s\u001b[0m 45ms/step - accuracy: 0.5092 - loss: 0.6930 - val_accuracy: 0.5024 - val_loss: 0.6932\n",
            "Epoch 20/20\n",
            "\u001b[1m24/24\u001b[0m \u001b[32m━━━━━━━━━━━━━━━━━━━━\u001b[0m\u001b[37m\u001b[0m \u001b[1m1s\u001b[0m 40ms/step - accuracy: 0.5146 - loss: 0.6928 - val_accuracy: 0.5024 - val_loss: 0.6932\n"
          ]
        }
      ],
      "source": [
        "model = keras.Sequential([\n",
        "    layers.Dense(16, activation=\"relu\"),\n",
        "    layers.Dropout(0.5),\n",
        "    layers.Dense(16, activation=\"relu\"),\n",
        "    layers.Dropout(0.5),\n",
        "    layers.Dense(1, activation=\"sigmoid\")\n",
        "])\n",
        "model.compile(optimizer=\"rmsprop\",\n",
        "              loss=\"binary_crossentropy\",\n",
        "              metrics=[\"accuracy\"])\n",
        "history_dropout = model.fit(\n",
        "    train_data, train_labels,\n",
        "    epochs=20, batch_size=512, validation_split=0.4)"
      ]
    },
    {
      "cell_type": "markdown",
      "source": [
        "### Versão PyTorch:"
      ],
      "metadata": {
        "id": "M7uQtFD4mEHy"
      }
    },
    {
      "cell_type": "code",
      "source": [
        "import torch\n",
        "import torch.nn as nn\n",
        "import torch.optim as optim\n",
        "from torch.utils.data import TensorDataset, DataLoader\n",
        "import matplotlib.pyplot as plt\n",
        "\n",
        "# Convertendo os dados\n",
        "train_data_tensor = torch.tensor(train_data, dtype=torch.float32)\n",
        "train_labels_tensor = torch.tensor(train_labels, dtype=torch.float32)\n",
        "\n",
        "# Separando treino/validação (validation_split = 0.4)\n",
        "split = int(len(train_data_tensor) * 0.6)\n",
        "train_inputs = train_data_tensor[:split]\n",
        "train_targets = train_labels_tensor[:split]\n",
        "val_inputs = train_data_tensor[split:]\n",
        "val_targets = train_labels_tensor[split:]\n",
        "\n",
        "# DataLoaders\n",
        "train_loader = DataLoader(TensorDataset(train_inputs, train_targets), batch_size=512, shuffle=True)\n",
        "val_loader = DataLoader(TensorDataset(val_inputs, val_targets), batch_size=512)\n",
        "\n",
        "# Modelo com Dropout\n",
        "class DropoutModel(nn.Module):\n",
        "    def __init__(self, input_dim):\n",
        "        super().__init__()\n",
        "        self.net = nn.Sequential(\n",
        "            nn.Linear(input_dim, 16),\n",
        "            nn.ReLU(),\n",
        "            nn.Dropout(0.5),\n",
        "            nn.Linear(16, 16),\n",
        "            nn.ReLU(),\n",
        "            nn.Dropout(0.5),\n",
        "            nn.Linear(16, 1),\n",
        "            nn.Sigmoid()\n",
        "        )\n",
        "\n",
        "    def forward(self, x):\n",
        "        return self.net(x)\n",
        "\n",
        "model = DropoutModel(train_data.shape[1])\n",
        "\n",
        "# Otimizador e função de perda\n",
        "criterion = nn.BCELoss()\n",
        "optimizer = optim.RMSprop(model.parameters(), lr=0.001)\n",
        "\n",
        "# Histórico\n",
        "history_dropout = {\n",
        "    'loss': [],\n",
        "    'val_loss': [],\n",
        "    'accuracy': [],\n",
        "    'val_accuracy': []\n",
        "}\n",
        "\n",
        "# Treinamento com avaliação\n",
        "for epoch in range(20):\n",
        "    model.train()\n",
        "    running_loss = 0.0\n",
        "    running_acc = 0.0\n",
        "    for inputs, labels in train_loader:\n",
        "        outputs = model(inputs).squeeze()\n",
        "        loss = criterion(outputs, labels)\n",
        "        optimizer.zero_grad()\n",
        "        loss.backward()\n",
        "        optimizer.step()\n",
        "\n",
        "        running_loss += loss.item()\n",
        "        preds = (outputs >= 0.5).float()\n",
        "        running_acc += (preds == labels).float().mean().item()\n",
        "\n",
        "    history_dropout['loss'].append(running_loss / len(train_loader))\n",
        "    history_dropout['accuracy'].append(running_acc / len(train_loader))\n",
        "\n",
        "    # Validação\n",
        "    model.eval()\n",
        "    val_loss = 0.0\n",
        "    val_acc = 0.0\n",
        "    with torch.no_grad():\n",
        "        for inputs, labels in val_loader:\n",
        "            outputs = model(inputs).squeeze()\n",
        "            loss = criterion(outputs, labels)\n",
        "            val_loss += loss.item()\n",
        "            preds = (outputs >= 0.5).float()\n",
        "            val_acc += (preds == labels).float().mean().item()\n",
        "\n",
        "    history_dropout['val_loss'].append(val_loss / len(val_loader))\n",
        "    history_dropout['val_accuracy'].append(val_acc / len(val_loader))\n",
        "\n",
        "    print(f\"Epoch {epoch+1} - loss: {history_dropout['loss'][-1]:.4f} - acc: {history_dropout['accuracy'][-1]:.4f} - val_loss: {history_dropout['val_loss'][-1]:.4f} - val_acc: {history_dropout['val_accuracy'][-1]:.4f}\")\n"
      ],
      "metadata": {
        "colab": {
          "base_uri": "https://localhost:8080/"
        },
        "id": "zpWojOaMmFoK",
        "outputId": "b47e25d0-e6b1-4312-cbaf-66c4d00d3eb4"
      },
      "execution_count": 36,
      "outputs": [
        {
          "output_type": "stream",
          "name": "stdout",
          "text": [
            "Epoch 1 - loss: 1.2401 - acc: 0.5023 - val_loss: 0.6931 - val_acc: 0.5026\n",
            "Epoch 2 - loss: 0.6938 - acc: 0.5002 - val_loss: 0.6932 - val_acc: 0.5026\n",
            "Epoch 3 - loss: 0.6934 - acc: 0.5036 - val_loss: 0.6932 - val_acc: 0.5026\n",
            "Epoch 4 - loss: 0.6931 - acc: 0.5077 - val_loss: 0.6932 - val_acc: 0.5026\n",
            "Epoch 5 - loss: 0.6935 - acc: 0.5084 - val_loss: 0.6932 - val_acc: 0.5026\n",
            "Epoch 6 - loss: 0.6937 - acc: 0.5008 - val_loss: 0.6932 - val_acc: 0.5026\n",
            "Epoch 7 - loss: 0.6934 - acc: 0.5023 - val_loss: 0.6932 - val_acc: 0.5026\n",
            "Epoch 8 - loss: 0.6934 - acc: 0.5027 - val_loss: 0.6932 - val_acc: 0.5026\n",
            "Epoch 9 - loss: 0.6934 - acc: 0.5060 - val_loss: 0.6932 - val_acc: 0.5026\n",
            "Epoch 10 - loss: 0.6934 - acc: 0.4991 - val_loss: 0.6932 - val_acc: 0.5026\n",
            "Epoch 11 - loss: 0.6931 - acc: 0.5036 - val_loss: 0.6932 - val_acc: 0.5026\n",
            "Epoch 12 - loss: 0.6935 - acc: 0.4996 - val_loss: 0.6932 - val_acc: 0.5026\n",
            "Epoch 13 - loss: 0.6934 - acc: 0.5030 - val_loss: 0.6932 - val_acc: 0.5026\n",
            "Epoch 14 - loss: 0.6934 - acc: 0.4980 - val_loss: 0.6932 - val_acc: 0.5026\n",
            "Epoch 15 - loss: 0.6933 - acc: 0.5051 - val_loss: 0.6932 - val_acc: 0.5026\n",
            "Epoch 16 - loss: 0.6931 - acc: 0.5060 - val_loss: 0.6932 - val_acc: 0.5026\n",
            "Epoch 17 - loss: 0.6931 - acc: 0.5079 - val_loss: 0.6932 - val_acc: 0.5026\n",
            "Epoch 18 - loss: 0.6931 - acc: 0.5038 - val_loss: 0.6932 - val_acc: 0.5026\n",
            "Epoch 19 - loss: 0.6932 - acc: 0.5016 - val_loss: 0.6932 - val_acc: 0.5026\n",
            "Epoch 20 - loss: 0.6930 - acc: 0.5082 - val_loss: 0.6932 - val_acc: 0.5026\n"
          ]
        }
      ]
    },
    {
      "cell_type": "code",
      "source": [
        "epochs = range(1, 21)\n",
        "\n",
        "plt.plot(epochs, history_dropout['loss'], 'bo-', label='Training loss')\n",
        "plt.plot(epochs, history_dropout['val_loss'], 'b--', label='Validation loss')\n",
        "plt.title('Training and validation loss')\n",
        "plt.xlabel('Epochs')\n",
        "plt.ylabel('Loss')\n",
        "plt.legend()\n",
        "plt.show()\n",
        "\n",
        "plt.plot(epochs, history_dropout['accuracy'], 'go-', label='Training acc')\n",
        "plt.plot(epochs, history_dropout['val_accuracy'], 'g--', label='Validation acc')\n",
        "plt.title('Training and validation accuracy')\n",
        "plt.xlabel('Epochs')\n",
        "plt.ylabel('Accuracy')\n",
        "plt.legend()\n",
        "plt.show()\n"
      ],
      "metadata": {
        "colab": {
          "base_uri": "https://localhost:8080/",
          "height": 927
        },
        "id": "073sNTxvnChZ",
        "outputId": "296ac4e7-343a-4f9a-d62f-b34c32be1ee5"
      },
      "execution_count": 37,
      "outputs": [
        {
          "output_type": "display_data",
          "data": {
            "text/plain": [
              "<Figure size 640x480 with 1 Axes>"
            ],
            "image/png": "[encoded data removed]"
          },
          "metadata": {}
        },
        {
          "output_type": "display_data",
          "data": {
            "text/plain": [
              "<Figure size 640x480 with 1 Axes>"
            ],
            "image/png": "[encoded data removed]"
          },
          "metadata": {}
        }
      ]
    },
    {
      "cell_type": "markdown",
      "metadata": {
        "id": "FmYkuUm3-Pld"
      },
      "source": [
        "## Summary"
      ]
    }
  ],
  "metadata": {
    "colab": {
      "provenance": []
    },
    "kernelspec": {
      "display_name": "Python 3",
      "language": "python",
      "name": "python3"
    },
    "language_info": {
      "codemirror_mode": {
        "name": "ipython",
        "version": 3
      },
      "file_extension": ".py",
      "mimetype": "text/x-python",
      "name": "python",
      "nbconvert_exporter": "python",
      "pygments_lexer": "ipython3",
      "version": "3.7.0"
    }
  },
  "nbformat": 4,
  "nbformat_minor": 0
}